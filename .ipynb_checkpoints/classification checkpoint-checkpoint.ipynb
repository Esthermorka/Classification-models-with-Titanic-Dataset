{
 "cells": [
  {
   "cell_type": "code",
   "execution_count": 1,
   "id": "c58a2dab",
   "metadata": {},
   "outputs": [],
   "source": [
    "import pandas as pd\n",
    "import numpy as np\n",
    "import matplotlib.pyplot as plt\n",
    "import seaborn as sns"
   ]
  },
  {
   "cell_type": "code",
   "execution_count": 2,
   "id": "23bddc24",
   "metadata": {},
   "outputs": [
    {
     "data": {
      "text/html": [
       "<div>\n",
       "<style scoped>\n",
       "    .dataframe tbody tr th:only-of-type {\n",
       "        vertical-align: middle;\n",
       "    }\n",
       "\n",
       "    .dataframe tbody tr th {\n",
       "        vertical-align: top;\n",
       "    }\n",
       "\n",
       "    .dataframe thead th {\n",
       "        text-align: right;\n",
       "    }\n",
       "</style>\n",
       "<table border=\"1\" class=\"dataframe\">\n",
       "  <thead>\n",
       "    <tr style=\"text-align: right;\">\n",
       "      <th></th>\n",
       "      <th>PassengerId</th>\n",
       "      <th>Survived</th>\n",
       "      <th>Pclass</th>\n",
       "      <th>Name</th>\n",
       "      <th>Sex</th>\n",
       "      <th>Age</th>\n",
       "      <th>SibSp</th>\n",
       "      <th>Parch</th>\n",
       "      <th>Ticket</th>\n",
       "      <th>Fare</th>\n",
       "      <th>Cabin</th>\n",
       "      <th>Embarked</th>\n",
       "    </tr>\n",
       "  </thead>\n",
       "  <tbody>\n",
       "    <tr>\n",
       "      <th>0</th>\n",
       "      <td>343</td>\n",
       "      <td>No</td>\n",
       "      <td>2</td>\n",
       "      <td>Collander, Mr. Erik Gustaf</td>\n",
       "      <td>male</td>\n",
       "      <td>28.0</td>\n",
       "      <td>0</td>\n",
       "      <td>0</td>\n",
       "      <td>248740</td>\n",
       "      <td>13.0000</td>\n",
       "      <td>NaN</td>\n",
       "      <td>S</td>\n",
       "    </tr>\n",
       "    <tr>\n",
       "      <th>1</th>\n",
       "      <td>76</td>\n",
       "      <td>No</td>\n",
       "      <td>3</td>\n",
       "      <td>Moen, Mr. Sigurd Hansen</td>\n",
       "      <td>male</td>\n",
       "      <td>25.0</td>\n",
       "      <td>0</td>\n",
       "      <td>0</td>\n",
       "      <td>348123</td>\n",
       "      <td>7.6500</td>\n",
       "      <td>F G73</td>\n",
       "      <td>S</td>\n",
       "    </tr>\n",
       "    <tr>\n",
       "      <th>2</th>\n",
       "      <td>641</td>\n",
       "      <td>No</td>\n",
       "      <td>3</td>\n",
       "      <td>Jensen, Mr. Hans Peder</td>\n",
       "      <td>male</td>\n",
       "      <td>20.0</td>\n",
       "      <td>0</td>\n",
       "      <td>0</td>\n",
       "      <td>350050</td>\n",
       "      <td>7.8542</td>\n",
       "      <td>NaN</td>\n",
       "      <td>S</td>\n",
       "    </tr>\n",
       "    <tr>\n",
       "      <th>3</th>\n",
       "      <td>568</td>\n",
       "      <td>No</td>\n",
       "      <td>3</td>\n",
       "      <td>Palsson, Mrs. Nils (Alma Cornelia Berglund)</td>\n",
       "      <td>female</td>\n",
       "      <td>29.0</td>\n",
       "      <td>0</td>\n",
       "      <td>4</td>\n",
       "      <td>349909</td>\n",
       "      <td>21.0750</td>\n",
       "      <td>NaN</td>\n",
       "      <td>S</td>\n",
       "    </tr>\n",
       "    <tr>\n",
       "      <th>4</th>\n",
       "      <td>672</td>\n",
       "      <td>No</td>\n",
       "      <td>1</td>\n",
       "      <td>Davidson, Mr. Thornton</td>\n",
       "      <td>male</td>\n",
       "      <td>31.0</td>\n",
       "      <td>1</td>\n",
       "      <td>0</td>\n",
       "      <td>F.C. 12750</td>\n",
       "      <td>52.0000</td>\n",
       "      <td>B71</td>\n",
       "      <td>S</td>\n",
       "    </tr>\n",
       "    <tr>\n",
       "      <th>5</th>\n",
       "      <td>105</td>\n",
       "      <td>No</td>\n",
       "      <td>3</td>\n",
       "      <td>Gustafsson, Mr. Anders Vilhelm</td>\n",
       "      <td>male</td>\n",
       "      <td>37.0</td>\n",
       "      <td>2</td>\n",
       "      <td>0</td>\n",
       "      <td>3101276</td>\n",
       "      <td>7.9250</td>\n",
       "      <td>NaN</td>\n",
       "      <td>S</td>\n",
       "    </tr>\n",
       "    <tr>\n",
       "      <th>6</th>\n",
       "      <td>576</td>\n",
       "      <td>No</td>\n",
       "      <td>3</td>\n",
       "      <td>Patchett, Mr. George</td>\n",
       "      <td>male</td>\n",
       "      <td>19.0</td>\n",
       "      <td>0</td>\n",
       "      <td>0</td>\n",
       "      <td>358585</td>\n",
       "      <td>14.5000</td>\n",
       "      <td>NaN</td>\n",
       "      <td>S</td>\n",
       "    </tr>\n",
       "    <tr>\n",
       "      <th>7</th>\n",
       "      <td>382</td>\n",
       "      <td>Yes</td>\n",
       "      <td>3</td>\n",
       "      <td>Nakid, Miss. Maria (\"Mary\")</td>\n",
       "      <td>female</td>\n",
       "      <td>1.0</td>\n",
       "      <td>0</td>\n",
       "      <td>2</td>\n",
       "      <td>2653</td>\n",
       "      <td>15.7417</td>\n",
       "      <td>NaN</td>\n",
       "      <td>C</td>\n",
       "    </tr>\n",
       "    <tr>\n",
       "      <th>8</th>\n",
       "      <td>228</td>\n",
       "      <td>No</td>\n",
       "      <td>3</td>\n",
       "      <td>Lovell, Mr. John Hall (\"Henry\")</td>\n",
       "      <td>male</td>\n",
       "      <td>20.5</td>\n",
       "      <td>0</td>\n",
       "      <td>0</td>\n",
       "      <td>A/5 21173</td>\n",
       "      <td>7.2500</td>\n",
       "      <td>NaN</td>\n",
       "      <td>S</td>\n",
       "    </tr>\n",
       "    <tr>\n",
       "      <th>9</th>\n",
       "      <td>433</td>\n",
       "      <td>Yes</td>\n",
       "      <td>2</td>\n",
       "      <td>Louch, Mrs. Charles Alexander (Alice Adelaide ...</td>\n",
       "      <td>female</td>\n",
       "      <td>42.0</td>\n",
       "      <td>1</td>\n",
       "      <td>0</td>\n",
       "      <td>SC/AH 3085</td>\n",
       "      <td>26.0000</td>\n",
       "      <td>NaN</td>\n",
       "      <td>S</td>\n",
       "    </tr>\n",
       "  </tbody>\n",
       "</table>\n",
       "</div>"
      ],
      "text/plain": [
       "   PassengerId Survived  Pclass  \\\n",
       "0          343       No       2   \n",
       "1           76       No       3   \n",
       "2          641       No       3   \n",
       "3          568       No       3   \n",
       "4          672       No       1   \n",
       "5          105       No       3   \n",
       "6          576       No       3   \n",
       "7          382      Yes       3   \n",
       "8          228       No       3   \n",
       "9          433      Yes       2   \n",
       "\n",
       "                                                Name     Sex   Age  SibSp  \\\n",
       "0                         Collander, Mr. Erik Gustaf    male  28.0      0   \n",
       "1                            Moen, Mr. Sigurd Hansen    male  25.0      0   \n",
       "2                             Jensen, Mr. Hans Peder    male  20.0      0   \n",
       "3        Palsson, Mrs. Nils (Alma Cornelia Berglund)  female  29.0      0   \n",
       "4                             Davidson, Mr. Thornton    male  31.0      1   \n",
       "5                     Gustafsson, Mr. Anders Vilhelm    male  37.0      2   \n",
       "6                               Patchett, Mr. George    male  19.0      0   \n",
       "7                        Nakid, Miss. Maria (\"Mary\")  female   1.0      0   \n",
       "8                    Lovell, Mr. John Hall (\"Henry\")    male  20.5      0   \n",
       "9  Louch, Mrs. Charles Alexander (Alice Adelaide ...  female  42.0      1   \n",
       "\n",
       "   Parch      Ticket     Fare  Cabin Embarked  \n",
       "0      0      248740  13.0000    NaN        S  \n",
       "1      0      348123   7.6500  F G73        S  \n",
       "2      0      350050   7.8542    NaN        S  \n",
       "3      4      349909  21.0750    NaN        S  \n",
       "4      0  F.C. 12750  52.0000    B71        S  \n",
       "5      0     3101276   7.9250    NaN        S  \n",
       "6      0      358585  14.5000    NaN        S  \n",
       "7      2        2653  15.7417    NaN        C  \n",
       "8      0   A/5 21173   7.2500    NaN        S  \n",
       "9      0  SC/AH 3085  26.0000    NaN        S  "
      ]
     },
     "execution_count": 2,
     "metadata": {},
     "output_type": "execute_result"
    }
   ],
   "source": [
    "data = pd.read_csv('titanic-passengers (1) (2).csv', sep = ';')\n",
    "data.head(10)"
   ]
  },
  {
   "cell_type": "code",
   "execution_count": 3,
   "id": "431bcabd",
   "metadata": {},
   "outputs": [
    {
     "data": {
      "text/plain": [
       "(891, 12)"
      ]
     },
     "execution_count": 3,
     "metadata": {},
     "output_type": "execute_result"
    }
   ],
   "source": [
    "data.shape"
   ]
  },
  {
   "cell_type": "code",
   "execution_count": 4,
   "id": "9b7f5889",
   "metadata": {},
   "outputs": [
    {
     "name": "stdout",
     "output_type": "stream",
     "text": [
      "<class 'pandas.core.frame.DataFrame'>\n",
      "RangeIndex: 891 entries, 0 to 890\n",
      "Data columns (total 12 columns):\n",
      " #   Column       Non-Null Count  Dtype  \n",
      "---  ------       --------------  -----  \n",
      " 0   PassengerId  891 non-null    int64  \n",
      " 1   Survived     891 non-null    object \n",
      " 2   Pclass       891 non-null    int64  \n",
      " 3   Name         891 non-null    object \n",
      " 4   Sex          891 non-null    object \n",
      " 5   Age          714 non-null    float64\n",
      " 6   SibSp        891 non-null    int64  \n",
      " 7   Parch        891 non-null    int64  \n",
      " 8   Ticket       891 non-null    object \n",
      " 9   Fare         891 non-null    float64\n",
      " 10  Cabin        204 non-null    object \n",
      " 11  Embarked     889 non-null    object \n",
      "dtypes: float64(2), int64(4), object(6)\n",
      "memory usage: 83.7+ KB\n"
     ]
    }
   ],
   "source": [
    "#Data Exploration\n",
    "data.info()"
   ]
  },
  {
   "cell_type": "code",
   "execution_count": 5,
   "id": "24610994",
   "metadata": {},
   "outputs": [
    {
     "data": {
      "text/plain": [
       "PassengerId      0\n",
       "Survived         0\n",
       "Pclass           0\n",
       "Name             0\n",
       "Sex              0\n",
       "Age            177\n",
       "SibSp            0\n",
       "Parch            0\n",
       "Ticket           0\n",
       "Fare             0\n",
       "Cabin          687\n",
       "Embarked         2\n",
       "dtype: int64"
      ]
     },
     "execution_count": 5,
     "metadata": {},
     "output_type": "execute_result"
    }
   ],
   "source": [
    "data.isnull().sum()"
   ]
  },
  {
   "cell_type": "code",
   "execution_count": 6,
   "id": "fa5df49a",
   "metadata": {},
   "outputs": [],
   "source": [
    "#dropping columns not needed for analysis or prediction\n",
    "data.drop(['Cabin','Name','PassengerId','Ticket'], axis = 1, inplace = True)"
   ]
  },
  {
   "cell_type": "code",
   "execution_count": 7,
   "id": "b504931c",
   "metadata": {},
   "outputs": [
    {
     "data": {
      "text/html": [
       "<div>\n",
       "<style scoped>\n",
       "    .dataframe tbody tr th:only-of-type {\n",
       "        vertical-align: middle;\n",
       "    }\n",
       "\n",
       "    .dataframe tbody tr th {\n",
       "        vertical-align: top;\n",
       "    }\n",
       "\n",
       "    .dataframe thead th {\n",
       "        text-align: right;\n",
       "    }\n",
       "</style>\n",
       "<table border=\"1\" class=\"dataframe\">\n",
       "  <thead>\n",
       "    <tr style=\"text-align: right;\">\n",
       "      <th></th>\n",
       "      <th>Pclass</th>\n",
       "      <th>Age</th>\n",
       "      <th>SibSp</th>\n",
       "      <th>Parch</th>\n",
       "      <th>Fare</th>\n",
       "    </tr>\n",
       "  </thead>\n",
       "  <tbody>\n",
       "    <tr>\n",
       "      <th>count</th>\n",
       "      <td>891.000000</td>\n",
       "      <td>714.000000</td>\n",
       "      <td>891.000000</td>\n",
       "      <td>891.000000</td>\n",
       "      <td>891.000000</td>\n",
       "    </tr>\n",
       "    <tr>\n",
       "      <th>mean</th>\n",
       "      <td>2.308642</td>\n",
       "      <td>29.699118</td>\n",
       "      <td>0.523008</td>\n",
       "      <td>0.381594</td>\n",
       "      <td>32.204208</td>\n",
       "    </tr>\n",
       "    <tr>\n",
       "      <th>std</th>\n",
       "      <td>0.836071</td>\n",
       "      <td>14.526497</td>\n",
       "      <td>1.102743</td>\n",
       "      <td>0.806057</td>\n",
       "      <td>49.693429</td>\n",
       "    </tr>\n",
       "    <tr>\n",
       "      <th>min</th>\n",
       "      <td>1.000000</td>\n",
       "      <td>0.420000</td>\n",
       "      <td>0.000000</td>\n",
       "      <td>0.000000</td>\n",
       "      <td>0.000000</td>\n",
       "    </tr>\n",
       "    <tr>\n",
       "      <th>25%</th>\n",
       "      <td>2.000000</td>\n",
       "      <td>20.125000</td>\n",
       "      <td>0.000000</td>\n",
       "      <td>0.000000</td>\n",
       "      <td>7.910400</td>\n",
       "    </tr>\n",
       "    <tr>\n",
       "      <th>50%</th>\n",
       "      <td>3.000000</td>\n",
       "      <td>28.000000</td>\n",
       "      <td>0.000000</td>\n",
       "      <td>0.000000</td>\n",
       "      <td>14.454200</td>\n",
       "    </tr>\n",
       "    <tr>\n",
       "      <th>75%</th>\n",
       "      <td>3.000000</td>\n",
       "      <td>38.000000</td>\n",
       "      <td>1.000000</td>\n",
       "      <td>0.000000</td>\n",
       "      <td>31.000000</td>\n",
       "    </tr>\n",
       "    <tr>\n",
       "      <th>max</th>\n",
       "      <td>3.000000</td>\n",
       "      <td>80.000000</td>\n",
       "      <td>8.000000</td>\n",
       "      <td>6.000000</td>\n",
       "      <td>512.329200</td>\n",
       "    </tr>\n",
       "  </tbody>\n",
       "</table>\n",
       "</div>"
      ],
      "text/plain": [
       "           Pclass         Age       SibSp       Parch        Fare\n",
       "count  891.000000  714.000000  891.000000  891.000000  891.000000\n",
       "mean     2.308642   29.699118    0.523008    0.381594   32.204208\n",
       "std      0.836071   14.526497    1.102743    0.806057   49.693429\n",
       "min      1.000000    0.420000    0.000000    0.000000    0.000000\n",
       "25%      2.000000   20.125000    0.000000    0.000000    7.910400\n",
       "50%      3.000000   28.000000    0.000000    0.000000   14.454200\n",
       "75%      3.000000   38.000000    1.000000    0.000000   31.000000\n",
       "max      3.000000   80.000000    8.000000    6.000000  512.329200"
      ]
     },
     "execution_count": 7,
     "metadata": {},
     "output_type": "execute_result"
    }
   ],
   "source": [
    "data.describe()"
   ]
  },
  {
   "cell_type": "code",
   "execution_count": 8,
   "id": "a2d70fe6",
   "metadata": {},
   "outputs": [
    {
     "data": {
      "text/plain": [
       "S    644\n",
       "C    168\n",
       "Q     77\n",
       "Name: Embarked, dtype: int64"
      ]
     },
     "execution_count": 8,
     "metadata": {},
     "output_type": "execute_result"
    }
   ],
   "source": [
    "data['Embarked'].value_counts()"
   ]
  },
  {
   "cell_type": "code",
   "execution_count": 9,
   "id": "479018d6",
   "metadata": {},
   "outputs": [],
   "source": [
    "#Filling null values\n",
    "data['Age'].fillna(data['Age'].mean(), inplace=True)\n",
    "data['Embarked'].fillna('S', inplace=True)"
   ]
  },
  {
   "cell_type": "code",
   "execution_count": 10,
   "id": "8a68078d",
   "metadata": {},
   "outputs": [],
   "source": [
    "data['Age'] = data['Age'].astype('int')"
   ]
  },
  {
   "cell_type": "code",
   "execution_count": 11,
   "id": "619894ee",
   "metadata": {},
   "outputs": [
    {
     "data": {
      "text/html": [
       "<div>\n",
       "<style scoped>\n",
       "    .dataframe tbody tr th:only-of-type {\n",
       "        vertical-align: middle;\n",
       "    }\n",
       "\n",
       "    .dataframe tbody tr th {\n",
       "        vertical-align: top;\n",
       "    }\n",
       "\n",
       "    .dataframe thead th {\n",
       "        text-align: right;\n",
       "    }\n",
       "</style>\n",
       "<table border=\"1\" class=\"dataframe\">\n",
       "  <thead>\n",
       "    <tr style=\"text-align: right;\">\n",
       "      <th></th>\n",
       "      <th>Pclass</th>\n",
       "      <th>Age</th>\n",
       "      <th>SibSp</th>\n",
       "      <th>Parch</th>\n",
       "      <th>Fare</th>\n",
       "    </tr>\n",
       "  </thead>\n",
       "  <tbody>\n",
       "    <tr>\n",
       "      <th>count</th>\n",
       "      <td>891.000000</td>\n",
       "      <td>891.000000</td>\n",
       "      <td>891.000000</td>\n",
       "      <td>891.000000</td>\n",
       "      <td>891.000000</td>\n",
       "    </tr>\n",
       "    <tr>\n",
       "      <th>mean</th>\n",
       "      <td>2.308642</td>\n",
       "      <td>29.544332</td>\n",
       "      <td>0.523008</td>\n",
       "      <td>0.381594</td>\n",
       "      <td>32.204208</td>\n",
       "    </tr>\n",
       "    <tr>\n",
       "      <th>std</th>\n",
       "      <td>0.836071</td>\n",
       "      <td>13.013778</td>\n",
       "      <td>1.102743</td>\n",
       "      <td>0.806057</td>\n",
       "      <td>49.693429</td>\n",
       "    </tr>\n",
       "    <tr>\n",
       "      <th>min</th>\n",
       "      <td>1.000000</td>\n",
       "      <td>0.000000</td>\n",
       "      <td>0.000000</td>\n",
       "      <td>0.000000</td>\n",
       "      <td>0.000000</td>\n",
       "    </tr>\n",
       "    <tr>\n",
       "      <th>25%</th>\n",
       "      <td>2.000000</td>\n",
       "      <td>22.000000</td>\n",
       "      <td>0.000000</td>\n",
       "      <td>0.000000</td>\n",
       "      <td>7.910400</td>\n",
       "    </tr>\n",
       "    <tr>\n",
       "      <th>50%</th>\n",
       "      <td>3.000000</td>\n",
       "      <td>29.000000</td>\n",
       "      <td>0.000000</td>\n",
       "      <td>0.000000</td>\n",
       "      <td>14.454200</td>\n",
       "    </tr>\n",
       "    <tr>\n",
       "      <th>75%</th>\n",
       "      <td>3.000000</td>\n",
       "      <td>35.000000</td>\n",
       "      <td>1.000000</td>\n",
       "      <td>0.000000</td>\n",
       "      <td>31.000000</td>\n",
       "    </tr>\n",
       "    <tr>\n",
       "      <th>max</th>\n",
       "      <td>3.000000</td>\n",
       "      <td>80.000000</td>\n",
       "      <td>8.000000</td>\n",
       "      <td>6.000000</td>\n",
       "      <td>512.329200</td>\n",
       "    </tr>\n",
       "  </tbody>\n",
       "</table>\n",
       "</div>"
      ],
      "text/plain": [
       "           Pclass         Age       SibSp       Parch        Fare\n",
       "count  891.000000  891.000000  891.000000  891.000000  891.000000\n",
       "mean     2.308642   29.544332    0.523008    0.381594   32.204208\n",
       "std      0.836071   13.013778    1.102743    0.806057   49.693429\n",
       "min      1.000000    0.000000    0.000000    0.000000    0.000000\n",
       "25%      2.000000   22.000000    0.000000    0.000000    7.910400\n",
       "50%      3.000000   29.000000    0.000000    0.000000   14.454200\n",
       "75%      3.000000   35.000000    1.000000    0.000000   31.000000\n",
       "max      3.000000   80.000000    8.000000    6.000000  512.329200"
      ]
     },
     "execution_count": 11,
     "metadata": {},
     "output_type": "execute_result"
    }
   ],
   "source": [
    "data.describe()"
   ]
  },
  {
   "cell_type": "code",
   "execution_count": 12,
   "id": "51f249f6",
   "metadata": {},
   "outputs": [],
   "source": [
    "data['Age'] = data['Age'].replace(0, np.nan)\n"
   ]
  },
  {
   "cell_type": "code",
   "execution_count": 13,
   "id": "92cc2ae3",
   "metadata": {},
   "outputs": [
    {
     "data": {
      "text/plain": [
       "Survived    0\n",
       "Pclass      0\n",
       "Sex         0\n",
       "Age         7\n",
       "SibSp       0\n",
       "Parch       0\n",
       "Fare        0\n",
       "Embarked    0\n",
       "dtype: int64"
      ]
     },
     "execution_count": 13,
     "metadata": {},
     "output_type": "execute_result"
    }
   ],
   "source": [
    "data.isnull().sum()"
   ]
  },
  {
   "cell_type": "code",
   "execution_count": 14,
   "id": "8c1adafb",
   "metadata": {},
   "outputs": [],
   "source": [
    "data['Age'].fillna(data['Age'].mean(), inplace=True)"
   ]
  },
  {
   "cell_type": "code",
   "execution_count": 15,
   "id": "e619f08c",
   "metadata": {},
   "outputs": [
    {
     "data": {
      "text/plain": [
       "<AxesSubplot:xlabel='Survived', ylabel='count'>"
      ]
     },
     "execution_count": 15,
     "metadata": {},
     "output_type": "execute_result"
    },
    {
     "data": {
      "image/png": "[encoded data removed]",
      "text/plain": [
       "<Figure size 432x288 with 1 Axes>"
      ]
     },
     "metadata": {
      "needs_background": "light"
     },
     "output_type": "display_data"
    }
   ],
   "source": [
    "sns.countplot(x='Survived',data=data)"
   ]
  },
  {
   "cell_type": "markdown",
   "id": "dc4b63a7",
   "metadata": {},
   "source": [
    "There are less survivors compared to the non survivors"
   ]
  },
  {
   "cell_type": "code",
   "execution_count": 16,
   "id": "15f653b5",
   "metadata": {},
   "outputs": [
    {
     "data": {
      "text/plain": [
       "<AxesSubplot:xlabel='Survived', ylabel='count'>"
      ]
     },
     "execution_count": 16,
     "metadata": {},
     "output_type": "execute_result"
    },
    {
     "data": {
      "image/png": "[encoded data removed]",
      "text/plain": [
       "<Figure size 432x288 with 1 Axes>"
      ]
     },
     "metadata": {
      "needs_background": "light"
     },
     "output_type": "display_data"
    }
   ],
   "source": [
    "sns.countplot(x='Survived', hue='Sex', data=data)"
   ]
  },
  {
   "cell_type": "markdown",
   "id": "83c4de87",
   "metadata": {},
   "source": [
    "Majority of the male passengers were non survivors"
   ]
  },
  {
   "cell_type": "code",
   "execution_count": 17,
   "id": "301e00e9",
   "metadata": {},
   "outputs": [
    {
     "data": {
      "text/plain": [
       "<AxesSubplot:xlabel='Survived', ylabel='count'>"
      ]
     },
     "execution_count": 17,
     "metadata": {},
     "output_type": "execute_result"
    },
    {
     "data": {
      "image/png": "[encoded data removed]",
      "text/plain": [
       "<Figure size 432x288 with 1 Axes>"
      ]
     },
     "metadata": {
      "needs_background": "light"
     },
     "output_type": "display_data"
    }
   ],
   "source": [
    "sns.countplot(x='Survived', hue='Pclass', data=data)"
   ]
  },
  {
   "cell_type": "markdown",
   "id": "e46885ae",
   "metadata": {},
   "source": [
    "Majority of the passengers that did not survive were of the thrid class"
   ]
  },
  {
   "cell_type": "code",
   "execution_count": 18,
   "id": "e024d936",
   "metadata": {},
   "outputs": [
    {
     "data": {
      "text/plain": [
       "<AxesSubplot:ylabel='Frequency'>"
      ]
     },
     "execution_count": 18,
     "metadata": {},
     "output_type": "execute_result"
    },
    {
     "data": {
      "image/png": "[encoded data removed]",
      "text/plain": [
       "<Figure size 432x288 with 1 Axes>"
      ]
     },
     "metadata": {
      "needs_background": "light"
     },
     "output_type": "display_data"
    }
   ],
   "source": [
    "data['Age'].plot.hist()"
   ]
  },
  {
   "cell_type": "markdown",
   "id": "94541262",
   "metadata": {},
   "source": [
    "There are more passengers within the age of 25-35 on board, and less older passengers."
   ]
  },
  {
   "cell_type": "code",
   "execution_count": 19,
   "id": "32acb4b9",
   "metadata": {},
   "outputs": [],
   "source": [
    "#Data Transformation \n",
    "\n",
    "from sklearn.preprocessing import LabelEncoder\n",
    "\n",
    "le =LabelEncoder()\n",
    "data['Sex'] = le.fit_transform(data['Sex'])\n",
    "data['Survived'] = le.fit_transform(data['Survived'])\n",
    "\n",
    "\n",
    "embark = pd.get_dummies(data['Embarked'])\n",
    "\n"
   ]
  },
  {
   "cell_type": "code",
   "execution_count": 20,
   "id": "5f30d09a",
   "metadata": {},
   "outputs": [
    {
     "data": {
      "text/html": [
       "<div>\n",
       "<style scoped>\n",
       "    .dataframe tbody tr th:only-of-type {\n",
       "        vertical-align: middle;\n",
       "    }\n",
       "\n",
       "    .dataframe tbody tr th {\n",
       "        vertical-align: top;\n",
       "    }\n",
       "\n",
       "    .dataframe thead th {\n",
       "        text-align: right;\n",
       "    }\n",
       "</style>\n",
       "<table border=\"1\" class=\"dataframe\">\n",
       "  <thead>\n",
       "    <tr style=\"text-align: right;\">\n",
       "      <th></th>\n",
       "      <th>Survived</th>\n",
       "      <th>Pclass</th>\n",
       "      <th>Sex</th>\n",
       "      <th>Age</th>\n",
       "      <th>SibSp</th>\n",
       "      <th>Parch</th>\n",
       "      <th>Fare</th>\n",
       "      <th>Embarked</th>\n",
       "    </tr>\n",
       "  </thead>\n",
       "  <tbody>\n",
       "    <tr>\n",
       "      <th>0</th>\n",
       "      <td>0</td>\n",
       "      <td>2</td>\n",
       "      <td>1</td>\n",
       "      <td>28.0</td>\n",
       "      <td>0</td>\n",
       "      <td>0</td>\n",
       "      <td>13.0000</td>\n",
       "      <td>S</td>\n",
       "    </tr>\n",
       "    <tr>\n",
       "      <th>1</th>\n",
       "      <td>0</td>\n",
       "      <td>3</td>\n",
       "      <td>1</td>\n",
       "      <td>25.0</td>\n",
       "      <td>0</td>\n",
       "      <td>0</td>\n",
       "      <td>7.6500</td>\n",
       "      <td>S</td>\n",
       "    </tr>\n",
       "    <tr>\n",
       "      <th>2</th>\n",
       "      <td>0</td>\n",
       "      <td>3</td>\n",
       "      <td>1</td>\n",
       "      <td>20.0</td>\n",
       "      <td>0</td>\n",
       "      <td>0</td>\n",
       "      <td>7.8542</td>\n",
       "      <td>S</td>\n",
       "    </tr>\n",
       "    <tr>\n",
       "      <th>3</th>\n",
       "      <td>0</td>\n",
       "      <td>3</td>\n",
       "      <td>0</td>\n",
       "      <td>29.0</td>\n",
       "      <td>0</td>\n",
       "      <td>4</td>\n",
       "      <td>21.0750</td>\n",
       "      <td>S</td>\n",
       "    </tr>\n",
       "    <tr>\n",
       "      <th>4</th>\n",
       "      <td>0</td>\n",
       "      <td>1</td>\n",
       "      <td>1</td>\n",
       "      <td>31.0</td>\n",
       "      <td>1</td>\n",
       "      <td>0</td>\n",
       "      <td>52.0000</td>\n",
       "      <td>S</td>\n",
       "    </tr>\n",
       "  </tbody>\n",
       "</table>\n",
       "</div>"
      ],
      "text/plain": [
       "   Survived  Pclass  Sex   Age  SibSp  Parch     Fare Embarked\n",
       "0         0       2    1  28.0      0      0  13.0000        S\n",
       "1         0       3    1  25.0      0      0   7.6500        S\n",
       "2         0       3    1  20.0      0      0   7.8542        S\n",
       "3         0       3    0  29.0      0      4  21.0750        S\n",
       "4         0       1    1  31.0      1      0  52.0000        S"
      ]
     },
     "execution_count": 20,
     "metadata": {},
     "output_type": "execute_result"
    }
   ],
   "source": [
    "data.head()"
   ]
  },
  {
   "cell_type": "code",
   "execution_count": 21,
   "id": "f83330ee",
   "metadata": {},
   "outputs": [],
   "source": [
    "data = pd.concat([data, embark], axis = 1)"
   ]
  },
  {
   "cell_type": "code",
   "execution_count": 22,
   "id": "2d2710b3",
   "metadata": {},
   "outputs": [
    {
     "data": {
      "text/html": [
       "<div>\n",
       "<style scoped>\n",
       "    .dataframe tbody tr th:only-of-type {\n",
       "        vertical-align: middle;\n",
       "    }\n",
       "\n",
       "    .dataframe tbody tr th {\n",
       "        vertical-align: top;\n",
       "    }\n",
       "\n",
       "    .dataframe thead th {\n",
       "        text-align: right;\n",
       "    }\n",
       "</style>\n",
       "<table border=\"1\" class=\"dataframe\">\n",
       "  <thead>\n",
       "    <tr style=\"text-align: right;\">\n",
       "      <th></th>\n",
       "      <th>Survived</th>\n",
       "      <th>Pclass</th>\n",
       "      <th>Sex</th>\n",
       "      <th>Age</th>\n",
       "      <th>SibSp</th>\n",
       "      <th>Parch</th>\n",
       "      <th>Fare</th>\n",
       "      <th>Embarked</th>\n",
       "      <th>C</th>\n",
       "      <th>Q</th>\n",
       "      <th>S</th>\n",
       "    </tr>\n",
       "  </thead>\n",
       "  <tbody>\n",
       "    <tr>\n",
       "      <th>0</th>\n",
       "      <td>0</td>\n",
       "      <td>2</td>\n",
       "      <td>1</td>\n",
       "      <td>28.0</td>\n",
       "      <td>0</td>\n",
       "      <td>0</td>\n",
       "      <td>13.0000</td>\n",
       "      <td>S</td>\n",
       "      <td>0</td>\n",
       "      <td>0</td>\n",
       "      <td>1</td>\n",
       "    </tr>\n",
       "    <tr>\n",
       "      <th>1</th>\n",
       "      <td>0</td>\n",
       "      <td>3</td>\n",
       "      <td>1</td>\n",
       "      <td>25.0</td>\n",
       "      <td>0</td>\n",
       "      <td>0</td>\n",
       "      <td>7.6500</td>\n",
       "      <td>S</td>\n",
       "      <td>0</td>\n",
       "      <td>0</td>\n",
       "      <td>1</td>\n",
       "    </tr>\n",
       "    <tr>\n",
       "      <th>2</th>\n",
       "      <td>0</td>\n",
       "      <td>3</td>\n",
       "      <td>1</td>\n",
       "      <td>20.0</td>\n",
       "      <td>0</td>\n",
       "      <td>0</td>\n",
       "      <td>7.8542</td>\n",
       "      <td>S</td>\n",
       "      <td>0</td>\n",
       "      <td>0</td>\n",
       "      <td>1</td>\n",
       "    </tr>\n",
       "    <tr>\n",
       "      <th>3</th>\n",
       "      <td>0</td>\n",
       "      <td>3</td>\n",
       "      <td>0</td>\n",
       "      <td>29.0</td>\n",
       "      <td>0</td>\n",
       "      <td>4</td>\n",
       "      <td>21.0750</td>\n",
       "      <td>S</td>\n",
       "      <td>0</td>\n",
       "      <td>0</td>\n",
       "      <td>1</td>\n",
       "    </tr>\n",
       "    <tr>\n",
       "      <th>4</th>\n",
       "      <td>0</td>\n",
       "      <td>1</td>\n",
       "      <td>1</td>\n",
       "      <td>31.0</td>\n",
       "      <td>1</td>\n",
       "      <td>0</td>\n",
       "      <td>52.0000</td>\n",
       "      <td>S</td>\n",
       "      <td>0</td>\n",
       "      <td>0</td>\n",
       "      <td>1</td>\n",
       "    </tr>\n",
       "  </tbody>\n",
       "</table>\n",
       "</div>"
      ],
      "text/plain": [
       "   Survived  Pclass  Sex   Age  SibSp  Parch     Fare Embarked  C  Q  S\n",
       "0         0       2    1  28.0      0      0  13.0000        S  0  0  1\n",
       "1         0       3    1  25.0      0      0   7.6500        S  0  0  1\n",
       "2         0       3    1  20.0      0      0   7.8542        S  0  0  1\n",
       "3         0       3    0  29.0      0      4  21.0750        S  0  0  1\n",
       "4         0       1    1  31.0      1      0  52.0000        S  0  0  1"
      ]
     },
     "execution_count": 22,
     "metadata": {},
     "output_type": "execute_result"
    }
   ],
   "source": [
    "data.head()"
   ]
  },
  {
   "cell_type": "code",
   "execution_count": 23,
   "id": "e6529e7f",
   "metadata": {},
   "outputs": [],
   "source": [
    "data.drop('Embarked', axis=1, inplace = True)"
   ]
  },
  {
   "cell_type": "code",
   "execution_count": 24,
   "id": "8a4d95de",
   "metadata": {},
   "outputs": [
    {
     "data": {
      "text/html": [
       "<div>\n",
       "<style scoped>\n",
       "    .dataframe tbody tr th:only-of-type {\n",
       "        vertical-align: middle;\n",
       "    }\n",
       "\n",
       "    .dataframe tbody tr th {\n",
       "        vertical-align: top;\n",
       "    }\n",
       "\n",
       "    .dataframe thead th {\n",
       "        text-align: right;\n",
       "    }\n",
       "</style>\n",
       "<table border=\"1\" class=\"dataframe\">\n",
       "  <thead>\n",
       "    <tr style=\"text-align: right;\">\n",
       "      <th></th>\n",
       "      <th>Survived</th>\n",
       "      <th>Pclass</th>\n",
       "      <th>Sex</th>\n",
       "      <th>Age</th>\n",
       "      <th>SibSp</th>\n",
       "      <th>Parch</th>\n",
       "      <th>Fare</th>\n",
       "      <th>C</th>\n",
       "      <th>Q</th>\n",
       "      <th>S</th>\n",
       "    </tr>\n",
       "  </thead>\n",
       "  <tbody>\n",
       "    <tr>\n",
       "      <th>0</th>\n",
       "      <td>0</td>\n",
       "      <td>2</td>\n",
       "      <td>1</td>\n",
       "      <td>28.0</td>\n",
       "      <td>0</td>\n",
       "      <td>0</td>\n",
       "      <td>13.0000</td>\n",
       "      <td>0</td>\n",
       "      <td>0</td>\n",
       "      <td>1</td>\n",
       "    </tr>\n",
       "    <tr>\n",
       "      <th>1</th>\n",
       "      <td>0</td>\n",
       "      <td>3</td>\n",
       "      <td>1</td>\n",
       "      <td>25.0</td>\n",
       "      <td>0</td>\n",
       "      <td>0</td>\n",
       "      <td>7.6500</td>\n",
       "      <td>0</td>\n",
       "      <td>0</td>\n",
       "      <td>1</td>\n",
       "    </tr>\n",
       "    <tr>\n",
       "      <th>2</th>\n",
       "      <td>0</td>\n",
       "      <td>3</td>\n",
       "      <td>1</td>\n",
       "      <td>20.0</td>\n",
       "      <td>0</td>\n",
       "      <td>0</td>\n",
       "      <td>7.8542</td>\n",
       "      <td>0</td>\n",
       "      <td>0</td>\n",
       "      <td>1</td>\n",
       "    </tr>\n",
       "    <tr>\n",
       "      <th>3</th>\n",
       "      <td>0</td>\n",
       "      <td>3</td>\n",
       "      <td>0</td>\n",
       "      <td>29.0</td>\n",
       "      <td>0</td>\n",
       "      <td>4</td>\n",
       "      <td>21.0750</td>\n",
       "      <td>0</td>\n",
       "      <td>0</td>\n",
       "      <td>1</td>\n",
       "    </tr>\n",
       "    <tr>\n",
       "      <th>4</th>\n",
       "      <td>0</td>\n",
       "      <td>1</td>\n",
       "      <td>1</td>\n",
       "      <td>31.0</td>\n",
       "      <td>1</td>\n",
       "      <td>0</td>\n",
       "      <td>52.0000</td>\n",
       "      <td>0</td>\n",
       "      <td>0</td>\n",
       "      <td>1</td>\n",
       "    </tr>\n",
       "  </tbody>\n",
       "</table>\n",
       "</div>"
      ],
      "text/plain": [
       "   Survived  Pclass  Sex   Age  SibSp  Parch     Fare  C  Q  S\n",
       "0         0       2    1  28.0      0      0  13.0000  0  0  1\n",
       "1         0       3    1  25.0      0      0   7.6500  0  0  1\n",
       "2         0       3    1  20.0      0      0   7.8542  0  0  1\n",
       "3         0       3    0  29.0      0      4  21.0750  0  0  1\n",
       "4         0       1    1  31.0      1      0  52.0000  0  0  1"
      ]
     },
     "execution_count": 24,
     "metadata": {},
     "output_type": "execute_result"
    }
   ],
   "source": [
    "data.head()"
   ]
  },
  {
   "cell_type": "code",
   "execution_count": 25,
   "id": "70e838a1",
   "metadata": {},
   "outputs": [],
   "source": [
    "#Data Splitting\n",
    "from sklearn.model_selection import train_test_split\n",
    "\n",
    "X = data.drop('Survived', axis=1,)\n",
    "y = data['Survived']"
   ]
  },
  {
   "cell_type": "markdown",
   "id": "e88cf12f",
   "metadata": {},
   "source": [
    "## Logistics Regression"
   ]
  },
  {
   "cell_type": "code",
   "execution_count": 26,
   "id": "b4dceffb",
   "metadata": {},
   "outputs": [
    {
     "name": "stderr",
     "output_type": "stream",
     "text": [
      "C:\\Users\\Admin\\anaconda3\\lib\\site-packages\\sklearn\\linear_model\\_logistic.py:814: ConvergenceWarning: lbfgs failed to converge (status=1):\n",
      "STOP: TOTAL NO. of ITERATIONS REACHED LIMIT.\n",
      "\n",
      "Increase the number of iterations (max_iter) or scale the data as shown in:\n",
      "    https://scikit-learn.org/stable/modules/preprocessing.html\n",
      "Please also refer to the documentation for alternative solver options:\n",
      "    https://scikit-learn.org/stable/modules/linear_model.html#logistic-regression\n",
      "  n_iter_i = _check_optimize_result(\n"
     ]
    },
    {
     "data": {
      "text/plain": [
       "LogisticRegression()"
      ]
     },
     "execution_count": 26,
     "metadata": {},
     "output_type": "execute_result"
    }
   ],
   "source": [
    "from sklearn.linear_model import LogisticRegression\n",
    "\n",
    "\n",
    "model = LogisticRegression()\n",
    "\n",
    "X_train,X_test,y_train,y_test = train_test_split(X,y , test_size=0.2, random_state=20)\n",
    "\n",
    "model.fit(X_train,y_train)"
   ]
  },
  {
   "cell_type": "code",
   "execution_count": 27,
   "id": "8e2fa7b9",
   "metadata": {},
   "outputs": [],
   "source": [
    "pred =  model.predict(X_test)"
   ]
  },
  {
   "cell_type": "code",
   "execution_count": 28,
   "id": "500752db",
   "metadata": {},
   "outputs": [
    {
     "data": {
      "text/plain": [
       "array([[93, 15],\n",
       "       [17, 54]], dtype=int64)"
      ]
     },
     "execution_count": 28,
     "metadata": {},
     "output_type": "execute_result"
    }
   ],
   "source": [
    "from sklearn.metrics import confusion_matrix\n",
    "\n",
    "confusion_matrix(pred,y_test)"
   ]
  },
  {
   "cell_type": "code",
   "execution_count": 29,
   "id": "cfd9577e",
   "metadata": {},
   "outputs": [
    {
     "data": {
      "text/plain": [
       "<AxesSubplot:xlabel='Predicted', ylabel='Actual'>"
      ]
     },
     "execution_count": 29,
     "metadata": {},
     "output_type": "execute_result"
    },
    {
     "data": {
      "image/png": "[encoded data removed]",
      "text/plain": [
       "<Figure size 432x288 with 2 Axes>"
      ]
     },
     "metadata": {
      "needs_background": "light"
     },
     "output_type": "display_data"
    }
   ],
   "source": [
    "confusion_matrix = pd.crosstab(y_test,pred,rownames=['Actual'],colnames=['Predicted'])\n",
    "sns.heatmap(confusion_matrix,annot = True)"
   ]
  },
  {
   "cell_type": "code",
   "execution_count": 30,
   "id": "6cc9bae6",
   "metadata": {},
   "outputs": [
    {
     "name": "stdout",
     "output_type": "stream",
     "text": [
      "              precision    recall  f1-score   support\n",
      "\n",
      "           0       0.86      0.85      0.85       110\n",
      "           1       0.76      0.78      0.77        69\n",
      "\n",
      "    accuracy                           0.82       179\n",
      "   macro avg       0.81      0.81      0.81       179\n",
      "weighted avg       0.82      0.82      0.82       179\n",
      "\n"
     ]
    }
   ],
   "source": [
    "from sklearn.metrics import classification_report \n",
    "\n",
    "print(classification_report(y_test,pred))"
   ]
  },
  {
   "cell_type": "code",
   "execution_count": 31,
   "id": "d7b640b0",
   "metadata": {},
   "outputs": [
    {
     "name": "stdout",
     "output_type": "stream",
     "text": [
      "Accuracy = 0.8212290502793296\n"
     ]
    }
   ],
   "source": [
    "print(f'Accuracy = {model.score(X_test,y_test)}')"
   ]
  },
  {
   "cell_type": "markdown",
   "id": "1634e3d0",
   "metadata": {},
   "source": [
    "Based on the classifcation report\n",
    "- 86% of non-survival class predictied by the model was correct\n",
    "- 76% of the survived class predicted by the model was correct\n",
    "- Out of the total Survived class in the data given, 86% of the survived class was predicted correctly by the model\n",
    "- Out of the total non-Survival class in the data given, 78% of the non-survived class was predicted correctly by the model"
   ]
  },
  {
   "cell_type": "code",
   "execution_count": 32,
   "id": "33ca6a2a",
   "metadata": {
    "scrolled": true
   },
   "outputs": [
    {
     "data": {
      "image/png": "[encoded data removed]",
      "text/plain": [
       "<Figure size 360x360 with 1 Axes>"
      ]
     },
     "metadata": {
      "needs_background": "light"
     },
     "output_type": "display_data"
    }
   ],
   "source": [
    "from sklearn.metrics import roc_curve, auc\n",
    "\n",
    "logistic_fpr,logistic_tpr, threshold = roc_curve(y_test,pred)\n",
    "auc_logistic = auc(logistic_fpr,logistic_tpr)\n",
    "\n",
    "plt.figure(figsize =(5,5))\n",
    "plt.plot(logistic_fpr,logistic_tpr, marker = '.',label='Logistic(auc - %0.2f)' % auc_logistic)\n",
    "\n",
    "plt.xlabel('False Positive Rate')\n",
    "plt.ylabel('True Positive Rate')\n",
    "\n",
    "plt.legend()\n",
    "\n",
    "plt.show()\n"
   ]
  },
  {
   "cell_type": "code",
   "execution_count": 33,
   "id": "03fed0df",
   "metadata": {},
   "outputs": [
    {
     "data": {
      "text/plain": [
       "array([2, 1, 0])"
      ]
     },
     "execution_count": 33,
     "metadata": {},
     "output_type": "execute_result"
    }
   ],
   "source": [
    "threshold"
   ]
  },
  {
   "cell_type": "markdown",
   "id": "821280c4",
   "metadata": {},
   "source": [
    "## KNN Classifier"
   ]
  },
  {
   "cell_type": "code",
   "execution_count": 34,
   "id": "acde9540",
   "metadata": {},
   "outputs": [],
   "source": [
    "#import the relevant libraries\n",
    "from sklearn.model_selection import train_test_split\n",
    "from sklearn.neighbors import KNeighborsClassifier\n",
    "from sklearn.metrics import accuracy_score\n"
   ]
  },
  {
   "cell_type": "code",
   "execution_count": 79,
   "id": "4f35d836",
   "metadata": {
    "scrolled": false
   },
   "outputs": [
    {
     "name": "stdout",
     "output_type": "stream",
     "text": [
      "1:0.6871508379888268\n",
      "2:0.7094972067039106\n",
      "3:0.7318435754189944\n",
      "4:0.6871508379888268\n",
      "5:0.7039106145251397\n",
      "6:0.6871508379888268\n",
      "7:0.6983240223463687\n",
      "8:0.6983240223463687\n",
      "9:0.6927374301675978\n",
      "10:0.6759776536312849\n",
      "11:0.7039106145251397\n",
      "12:0.6815642458100558\n",
      "13:0.6815642458100558\n",
      "14:0.6759776536312849\n",
      "15:0.6759776536312849\n",
      "16:0.6759776536312849\n",
      "17:0.6703910614525139\n",
      "18:0.6815642458100558\n",
      "19:0.6871508379888268\n"
     ]
    }
   ],
   "source": [
    "#Looping through values of K from range 1 -20  find the optimal vale of K\n",
    "scores = []\n",
    "for k in range(1,20):\n",
    "    model = KNeighborsClassifier(k)\n",
    "    model.fit(X_train,y_train)\n",
    "    y_pred = model.predict(X_test)\n",
    "    print(f'{k}:{accuracy_score(y_test,y_pred,)}')\n",
    "    scores.append(accuracy_score(y_test,y_pred))"
   ]
  },
  {
   "cell_type": "code",
   "execution_count": 36,
   "id": "83770aca",
   "metadata": {
    "scrolled": false
   },
   "outputs": [
    {
     "data": {
      "text/plain": [
       "Text(0.5, 1.0, 'Testing Accuracy for different value of K')"
      ]
     },
     "execution_count": 36,
     "metadata": {},
     "output_type": "execute_result"
    },
    {
     "data": {
      "image/png": "[encoded data removed]",
      "text/plain": [
       "<Figure size 1152x576 with 1 Axes>"
      ]
     },
     "metadata": {
      "needs_background": "light"
     },
     "output_type": "display_data"
    }
   ],
   "source": [
    "plt.figure(figsize = (16,8))\n",
    "plt.plot(range(1,20),scores)\n",
    "plt.xlabel('Value K for KNN')\n",
    "plt.ylabel('Testing Accuracy')\n",
    "plt.title('Testing Accuracy for different value of K')"
   ]
  },
  {
   "cell_type": "markdown",
   "id": "5be9ded2",
   "metadata": {},
   "source": [
    "The optimal number of neighbor is 3 because it gives the most appropriate accuracy for the KNN model(0.73)"
   ]
  },
  {
   "cell_type": "markdown",
   "id": "5b306386",
   "metadata": {},
   "source": [
    "## Decision Tree"
   ]
  },
  {
   "cell_type": "code",
   "execution_count": 37,
   "id": "c139e095",
   "metadata": {},
   "outputs": [],
   "source": [
    "#Importing dependencies\n",
    "from sklearn.tree import DecisionTreeClassifier \n",
    "from sklearn import tree"
   ]
  },
  {
   "cell_type": "code",
   "execution_count": 59,
   "id": "2f86e5cf",
   "metadata": {},
   "outputs": [
    {
     "data": {
      "text/plain": [
       "DecisionTreeClassifier(max_depth=5, min_samples_leaf=10, random_state=30)"
      ]
     },
     "execution_count": 59,
     "metadata": {},
     "output_type": "execute_result"
    }
   ],
   "source": [
    "model = DecisionTreeClassifier(max_depth=5,random_state=30,min_samples_leaf=10)\n",
    "model.fit(X_train,y_train)"
   ]
  },
  {
   "cell_type": "code",
   "execution_count": 60,
   "id": "0692102b",
   "metadata": {},
   "outputs": [
    {
     "name": "stdout",
     "output_type": "stream",
     "text": [
      "The_ Accuracy Sore the test data : 0.8547486033519553\n",
      "The_ Accuracy Sore the training data : 0.8300561797752809\n"
     ]
    }
   ],
   "source": [
    "prediction = model.predict(X_test)\n",
    "\n",
    "print(f'The_ Accuracy Sore the test data : {accuracy_score(prediction,y_test)}')\n",
    "print(f'The_ Accuracy Sore the training data : {accuracy_score(model.predict(X_train),y_train)}')"
   ]
  },
  {
   "cell_type": "code",
   "execution_count": 47,
   "id": "b0186ac3",
   "metadata": {},
   "outputs": [
    {
     "name": "stdout",
     "output_type": "stream",
     "text": [
      "Requirement already satisfied: graphviz in c:\\users\\admin\\anaconda3\\lib\\site-packages (0.20.1)\n"
     ]
    }
   ],
   "source": [
    "!pip install graphviz"
   ]
  },
  {
   "cell_type": "code",
   "execution_count": 61,
   "id": "d87ec8b3",
   "metadata": {
    "scrolled": true
   },
   "outputs": [
    {
     "data": {
      "image/svg+xml": [
       "<?xml version=\"1.0\" encoding=\"UTF-8\" standalone=\"no\"?>\n",
       "<!DOCTYPE svg PUBLIC \"-//W3C//DTD SVG 1.1//EN\"\n",
       " \"http://www.w3.org/Graphics/SVG/1.1/DTD/svg11.dtd\">\n",
       "<!-- Generated by graphviz version 7.1.0 (20230121.1956)\n",
       " -->\n",
       "<!-- Title: Tree Pages: 1 -->\n",
       "<svg width=\"2183pt\" height=\"581pt\"\n",
       " viewBox=\"0.00 0.00 2183.00 581.00\" xmlns=\"http://www.w3.org/2000/svg\" xmlns:xlink=\"http://www.w3.org/1999/xlink\">\n",
       "<g id=\"graph0\" class=\"graph\" transform=\"scale(1 1) rotate(0) translate(4 577)\">\n",
       "<title>Tree</title>\n",
       "<polygon fill=\"white\" stroke=\"none\" points=\"-4,4 -4,-577 2179,-577 2179,4 -4,4\"/>\n",
       "<!-- 0 -->\n",
       "<g id=\"node1\" class=\"node\">\n",
       "<title>0</title>\n",
       "<path fill=\"#f5cfb4\" stroke=\"black\" d=\"M1150.5,-573C1150.5,-573 1044.5,-573 1044.5,-573 1038.5,-573 1032.5,-567 1032.5,-561 1032.5,-561 1032.5,-517 1032.5,-517 1032.5,-511 1038.5,-505 1044.5,-505 1044.5,-505 1150.5,-505 1150.5,-505 1156.5,-505 1162.5,-511 1162.5,-517 1162.5,-517 1162.5,-561 1162.5,-561 1162.5,-567 1156.5,-573 1150.5,-573\"/>\n",
       "<text text-anchor=\"middle\" x=\"1097.5\" y=\"-557.8\" font-family=\"Helvetica,sans-Serif\" font-size=\"14.00\">X[1] &lt;= 0.5</text>\n",
       "<text text-anchor=\"middle\" x=\"1097.5\" y=\"-542.8\" font-family=\"Helvetica,sans-Serif\" font-size=\"14.00\">gini = 0.473</text>\n",
       "<text text-anchor=\"middle\" x=\"1097.5\" y=\"-527.8\" font-family=\"Helvetica,sans-Serif\" font-size=\"14.00\">samples = 712</text>\n",
       "<text text-anchor=\"middle\" x=\"1097.5\" y=\"-512.8\" font-family=\"Helvetica,sans-Serif\" font-size=\"14.00\">value = [439, 273]</text>\n",
       "</g>\n",
       "<!-- 1 -->\n",
       "<g id=\"node2\" class=\"node\">\n",
       "<title>1</title>\n",
       "<path fill=\"#84c2ef\" stroke=\"black\" d=\"M841.5,-469C841.5,-469 743.5,-469 743.5,-469 737.5,-469 731.5,-463 731.5,-457 731.5,-457 731.5,-413 731.5,-413 731.5,-407 737.5,-401 743.5,-401 743.5,-401 841.5,-401 841.5,-401 847.5,-401 853.5,-407 853.5,-413 853.5,-413 853.5,-457 853.5,-457 853.5,-463 847.5,-469 841.5,-469\"/>\n",
       "<text text-anchor=\"middle\" x=\"792.5\" y=\"-453.8\" font-family=\"Helvetica,sans-Serif\" font-size=\"14.00\">X[0] &lt;= 2.5</text>\n",
       "<text text-anchor=\"middle\" x=\"792.5\" y=\"-438.8\" font-family=\"Helvetica,sans-Serif\" font-size=\"14.00\">gini = 0.398</text>\n",
       "<text text-anchor=\"middle\" x=\"792.5\" y=\"-423.8\" font-family=\"Helvetica,sans-Serif\" font-size=\"14.00\">samples = 248</text>\n",
       "<text text-anchor=\"middle\" x=\"792.5\" y=\"-408.8\" font-family=\"Helvetica,sans-Serif\" font-size=\"14.00\">value = [68, 180]</text>\n",
       "</g>\n",
       "<!-- 0&#45;&gt;1 -->\n",
       "<g id=\"edge1\" class=\"edge\">\n",
       "<title>0&#45;&gt;1</title>\n",
       "<path fill=\"none\" stroke=\"black\" d=\"M1032.07,-516.12C982.9,-499.68 915.58,-477.16 864.82,-460.19\"/>\n",
       "<polygon fill=\"black\" stroke=\"black\" points=\"865.95,-456.87 855.36,-457.02 863.73,-463.51 865.95,-456.87\"/>\n",
       "<text text-anchor=\"middle\" x=\"865.08\" y=\"-475.21\" font-family=\"Helvetica,sans-Serif\" font-size=\"14.00\">True</text>\n",
       "</g>\n",
       "<!-- 24 -->\n",
       "<g id=\"node25\" class=\"node\">\n",
       "<title>24</title>\n",
       "<path fill=\"#eca16b\" stroke=\"black\" d=\"M1460.5,-469C1460.5,-469 1362.5,-469 1362.5,-469 1356.5,-469 1350.5,-463 1350.5,-457 1350.5,-457 1350.5,-413 1350.5,-413 1350.5,-407 1356.5,-401 1362.5,-401 1362.5,-401 1460.5,-401 1460.5,-401 1466.5,-401 1472.5,-407 1472.5,-413 1472.5,-413 1472.5,-457 1472.5,-457 1472.5,-463 1466.5,-469 1460.5,-469\"/>\n",
       "<text text-anchor=\"middle\" x=\"1411.5\" y=\"-453.8\" font-family=\"Helvetica,sans-Serif\" font-size=\"14.00\">X[5] &lt;= 15.123</text>\n",
       "<text text-anchor=\"middle\" x=\"1411.5\" y=\"-438.8\" font-family=\"Helvetica,sans-Serif\" font-size=\"14.00\">gini = 0.321</text>\n",
       "<text text-anchor=\"middle\" x=\"1411.5\" y=\"-423.8\" font-family=\"Helvetica,sans-Serif\" font-size=\"14.00\">samples = 464</text>\n",
       "<text text-anchor=\"middle\" x=\"1411.5\" y=\"-408.8\" font-family=\"Helvetica,sans-Serif\" font-size=\"14.00\">value = [371, 93]</text>\n",
       "</g>\n",
       "<!-- 0&#45;&gt;24 -->\n",
       "<g id=\"edge24\" class=\"edge\">\n",
       "<title>0&#45;&gt;24</title>\n",
       "<path fill=\"none\" stroke=\"black\" d=\"M1162.94,-516.74C1214.48,-500 1286.25,-476.69 1339.43,-459.41\"/>\n",
       "<polygon fill=\"black\" stroke=\"black\" points=\"1340.27,-462.82 1348.7,-456.4 1338.11,-456.16 1340.27,-462.82\"/>\n",
       "<text text-anchor=\"middle\" x=\"1338.79\" y=\"-474.51\" font-family=\"Helvetica,sans-Serif\" font-size=\"14.00\">False</text>\n",
       "</g>\n",
       "<!-- 2 -->\n",
       "<g id=\"node3\" class=\"node\">\n",
       "<title>2</title>\n",
       "<path fill=\"#44a2e6\" stroke=\"black\" d=\"M466,-365C466,-365 377,-365 377,-365 371,-365 365,-359 365,-353 365,-353 365,-309 365,-309 365,-303 371,-297 377,-297 377,-297 466,-297 466,-297 472,-297 478,-303 478,-309 478,-309 478,-353 478,-353 478,-359 472,-365 466,-365\"/>\n",
       "<text text-anchor=\"middle\" x=\"421.5\" y=\"-349.8\" font-family=\"Helvetica,sans-Serif\" font-size=\"14.00\">X[5] &lt;= 28.856</text>\n",
       "<text text-anchor=\"middle\" x=\"421.5\" y=\"-334.8\" font-family=\"Helvetica,sans-Serif\" font-size=\"14.00\">gini = 0.1</text>\n",
       "<text text-anchor=\"middle\" x=\"421.5\" y=\"-319.8\" font-family=\"Helvetica,sans-Serif\" font-size=\"14.00\">samples = 132</text>\n",
       "<text text-anchor=\"middle\" x=\"421.5\" y=\"-304.8\" font-family=\"Helvetica,sans-Serif\" font-size=\"14.00\">value = [7, 125]</text>\n",
       "</g>\n",
       "<!-- 1&#45;&gt;2 -->\n",
       "<g id=\"edge2\" class=\"edge\">\n",
       "<title>1&#45;&gt;2</title>\n",
       "<path fill=\"none\" stroke=\"black\" d=\"M731.24,-417.16C664.52,-398.81 558.13,-369.56 489.04,-350.57\"/>\n",
       "<polygon fill=\"black\" stroke=\"black\" points=\"490.31,-347.29 479.74,-348.01 488.46,-354.04 490.31,-347.29\"/>\n",
       "</g>\n",
       "<!-- 11 -->\n",
       "<g id=\"node12\" class=\"node\">\n",
       "<title>11</title>\n",
       "<path fill=\"#fcf3ec\" stroke=\"black\" d=\"M837,-365C837,-365 748,-365 748,-365 742,-365 736,-359 736,-353 736,-353 736,-309 736,-309 736,-303 742,-297 748,-297 748,-297 837,-297 837,-297 843,-297 849,-303 849,-309 849,-309 849,-353 849,-353 849,-359 843,-365 837,-365\"/>\n",
       "<text text-anchor=\"middle\" x=\"792.5\" y=\"-349.8\" font-family=\"Helvetica,sans-Serif\" font-size=\"14.00\">X[8] &lt;= 0.5</text>\n",
       "<text text-anchor=\"middle\" x=\"792.5\" y=\"-334.8\" font-family=\"Helvetica,sans-Serif\" font-size=\"14.00\">gini = 0.499</text>\n",
       "<text text-anchor=\"middle\" x=\"792.5\" y=\"-319.8\" font-family=\"Helvetica,sans-Serif\" font-size=\"14.00\">samples = 116</text>\n",
       "<text text-anchor=\"middle\" x=\"792.5\" y=\"-304.8\" font-family=\"Helvetica,sans-Serif\" font-size=\"14.00\">value = [61, 55]</text>\n",
       "</g>\n",
       "<!-- 1&#45;&gt;11 -->\n",
       "<g id=\"edge11\" class=\"edge\">\n",
       "<title>1&#45;&gt;11</title>\n",
       "<path fill=\"none\" stroke=\"black\" d=\"M792.5,-400.6C792.5,-393.03 792.5,-384.87 792.5,-376.9\"/>\n",
       "<polygon fill=\"black\" stroke=\"black\" points=\"796,-376.99 792.5,-366.99 789,-376.99 796,-376.99\"/>\n",
       "</g>\n",
       "<!-- 3 -->\n",
       "<g id=\"node4\" class=\"node\">\n",
       "<title>3</title>\n",
       "<path fill=\"#54aae9\" stroke=\"black\" d=\"M277,-261C277,-261 196,-261 196,-261 190,-261 184,-255 184,-249 184,-249 184,-205 184,-205 184,-199 190,-193 196,-193 196,-193 277,-193 277,-193 283,-193 289,-199 289,-205 289,-205 289,-249 289,-249 289,-255 283,-261 277,-261\"/>\n",
       "<text text-anchor=\"middle\" x=\"236.5\" y=\"-245.8\" font-family=\"Helvetica,sans-Serif\" font-size=\"14.00\">X[2] &lt;= 37.0</text>\n",
       "<text text-anchor=\"middle\" x=\"236.5\" y=\"-230.8\" font-family=\"Helvetica,sans-Serif\" font-size=\"14.00\">gini = 0.211</text>\n",
       "<text text-anchor=\"middle\" x=\"236.5\" y=\"-215.8\" font-family=\"Helvetica,sans-Serif\" font-size=\"14.00\">samples = 50</text>\n",
       "<text text-anchor=\"middle\" x=\"236.5\" y=\"-200.8\" font-family=\"Helvetica,sans-Serif\" font-size=\"14.00\">value = [6, 44]</text>\n",
       "</g>\n",
       "<!-- 2&#45;&gt;3 -->\n",
       "<g id=\"edge3\" class=\"edge\">\n",
       "<title>2&#45;&gt;3</title>\n",
       "<path fill=\"none\" stroke=\"black\" d=\"M364.74,-298.7C344.01,-287.28 320.46,-274.29 299.25,-262.6\"/>\n",
       "<polygon fill=\"black\" stroke=\"black\" points=\"301.14,-259.64 290.69,-257.88 297.76,-265.77 301.14,-259.64\"/>\n",
       "</g>\n",
       "<!-- 8 -->\n",
       "<g id=\"node9\" class=\"node\">\n",
       "<title>8</title>\n",
       "<path fill=\"#3b9ee5\" stroke=\"black\" d=\"M462,-261C462,-261 381,-261 381,-261 375,-261 369,-255 369,-249 369,-249 369,-205 369,-205 369,-199 375,-193 381,-193 381,-193 462,-193 462,-193 468,-193 474,-199 474,-205 474,-205 474,-249 474,-249 474,-255 468,-261 462,-261\"/>\n",
       "<text text-anchor=\"middle\" x=\"421.5\" y=\"-245.8\" font-family=\"Helvetica,sans-Serif\" font-size=\"14.00\">X[4] &lt;= 1.5</text>\n",
       "<text text-anchor=\"middle\" x=\"421.5\" y=\"-230.8\" font-family=\"Helvetica,sans-Serif\" font-size=\"14.00\">gini = 0.024</text>\n",
       "<text text-anchor=\"middle\" x=\"421.5\" y=\"-215.8\" font-family=\"Helvetica,sans-Serif\" font-size=\"14.00\">samples = 82</text>\n",
       "<text text-anchor=\"middle\" x=\"421.5\" y=\"-200.8\" font-family=\"Helvetica,sans-Serif\" font-size=\"14.00\">value = [1, 81]</text>\n",
       "</g>\n",
       "<!-- 2&#45;&gt;8 -->\n",
       "<g id=\"edge8\" class=\"edge\">\n",
       "<title>2&#45;&gt;8</title>\n",
       "<path fill=\"none\" stroke=\"black\" d=\"M421.5,-296.6C421.5,-289.03 421.5,-280.87 421.5,-272.9\"/>\n",
       "<polygon fill=\"black\" stroke=\"black\" points=\"425,-272.99 421.5,-262.99 418,-272.99 425,-272.99\"/>\n",
       "</g>\n",
       "<!-- 4 -->\n",
       "<g id=\"node5\" class=\"node\">\n",
       "<title>4</title>\n",
       "<path fill=\"#45a3e7\" stroke=\"black\" d=\"M154,-157C154,-157 73,-157 73,-157 67,-157 61,-151 61,-145 61,-145 61,-101 61,-101 61,-95 67,-89 73,-89 73,-89 154,-89 154,-89 160,-89 166,-95 166,-101 166,-101 166,-145 166,-145 166,-151 160,-157 154,-157\"/>\n",
       "<text text-anchor=\"middle\" x=\"113.5\" y=\"-141.8\" font-family=\"Helvetica,sans-Serif\" font-size=\"14.00\">X[3] &lt;= 0.5</text>\n",
       "<text text-anchor=\"middle\" x=\"113.5\" y=\"-126.8\" font-family=\"Helvetica,sans-Serif\" font-size=\"14.00\">gini = 0.108</text>\n",
       "<text text-anchor=\"middle\" x=\"113.5\" y=\"-111.8\" font-family=\"Helvetica,sans-Serif\" font-size=\"14.00\">samples = 35</text>\n",
       "<text text-anchor=\"middle\" x=\"113.5\" y=\"-96.8\" font-family=\"Helvetica,sans-Serif\" font-size=\"14.00\">value = [2, 33]</text>\n",
       "</g>\n",
       "<!-- 3&#45;&gt;4 -->\n",
       "<g id=\"edge4\" class=\"edge\">\n",
       "<title>3&#45;&gt;4</title>\n",
       "<path fill=\"none\" stroke=\"black\" d=\"M196.23,-192.6C185.5,-183.71 173.79,-174 162.65,-164.76\"/>\n",
       "<polygon fill=\"black\" stroke=\"black\" points=\"164.96,-162.13 155.03,-158.44 160.49,-167.52 164.96,-162.13\"/>\n",
       "</g>\n",
       "<!-- 7 -->\n",
       "<g id=\"node8\" class=\"node\">\n",
       "<title>7</title>\n",
       "<path fill=\"#81c1ee\" stroke=\"black\" d=\"M277,-149.5C277,-149.5 196,-149.5 196,-149.5 190,-149.5 184,-143.5 184,-137.5 184,-137.5 184,-108.5 184,-108.5 184,-102.5 190,-96.5 196,-96.5 196,-96.5 277,-96.5 277,-96.5 283,-96.5 289,-102.5 289,-108.5 289,-108.5 289,-137.5 289,-137.5 289,-143.5 283,-149.5 277,-149.5\"/>\n",
       "<text text-anchor=\"middle\" x=\"236.5\" y=\"-134.3\" font-family=\"Helvetica,sans-Serif\" font-size=\"14.00\">gini = 0.391</text>\n",
       "<text text-anchor=\"middle\" x=\"236.5\" y=\"-119.3\" font-family=\"Helvetica,sans-Serif\" font-size=\"14.00\">samples = 15</text>\n",
       "<text text-anchor=\"middle\" x=\"236.5\" y=\"-104.3\" font-family=\"Helvetica,sans-Serif\" font-size=\"14.00\">value = [4, 11]</text>\n",
       "</g>\n",
       "<!-- 3&#45;&gt;7 -->\n",
       "<g id=\"edge7\" class=\"edge\">\n",
       "<title>3&#45;&gt;7</title>\n",
       "<path fill=\"none\" stroke=\"black\" d=\"M236.5,-192.6C236.5,-182.47 236.5,-171.28 236.5,-160.93\"/>\n",
       "<polygon fill=\"black\" stroke=\"black\" points=\"240,-161.22 236.5,-151.22 233,-161.22 240,-161.22\"/>\n",
       "</g>\n",
       "<!-- 5 -->\n",
       "<g id=\"node6\" class=\"node\">\n",
       "<title>5</title>\n",
       "<path fill=\"#399de5\" stroke=\"black\" d=\"M93,-53C93,-53 12,-53 12,-53 6,-53 0,-47 0,-41 0,-41 0,-12 0,-12 0,-6 6,0 12,0 12,0 93,0 93,0 99,0 105,-6 105,-12 105,-12 105,-41 105,-41 105,-47 99,-53 93,-53\"/>\n",
       "<text text-anchor=\"middle\" x=\"52.5\" y=\"-37.8\" font-family=\"Helvetica,sans-Serif\" font-size=\"14.00\">gini = 0.0</text>\n",
       "<text text-anchor=\"middle\" x=\"52.5\" y=\"-22.8\" font-family=\"Helvetica,sans-Serif\" font-size=\"14.00\">samples = 20</text>\n",
       "<text text-anchor=\"middle\" x=\"52.5\" y=\"-7.8\" font-family=\"Helvetica,sans-Serif\" font-size=\"14.00\">value = [0, 20]</text>\n",
       "</g>\n",
       "<!-- 4&#45;&gt;5 -->\n",
       "<g id=\"edge5\" class=\"edge\">\n",
       "<title>4&#45;&gt;5</title>\n",
       "<path fill=\"none\" stroke=\"black\" d=\"M91.99,-88.68C86.62,-80.36 80.84,-71.4 75.4,-62.97\"/>\n",
       "<polygon fill=\"black\" stroke=\"black\" points=\"78.4,-61.17 70.04,-54.67 72.52,-64.97 78.4,-61.17\"/>\n",
       "</g>\n",
       "<!-- 6 -->\n",
       "<g id=\"node7\" class=\"node\">\n",
       "<title>6</title>\n",
       "<path fill=\"#57ace9\" stroke=\"black\" d=\"M216,-53C216,-53 135,-53 135,-53 129,-53 123,-47 123,-41 123,-41 123,-12 123,-12 123,-6 129,0 135,0 135,0 216,0 216,0 222,0 228,-6 228,-12 228,-12 228,-41 228,-41 228,-47 222,-53 216,-53\"/>\n",
       "<text text-anchor=\"middle\" x=\"175.5\" y=\"-37.8\" font-family=\"Helvetica,sans-Serif\" font-size=\"14.00\">gini = 0.231</text>\n",
       "<text text-anchor=\"middle\" x=\"175.5\" y=\"-22.8\" font-family=\"Helvetica,sans-Serif\" font-size=\"14.00\">samples = 15</text>\n",
       "<text text-anchor=\"middle\" x=\"175.5\" y=\"-7.8\" font-family=\"Helvetica,sans-Serif\" font-size=\"14.00\">value = [2, 13]</text>\n",
       "</g>\n",
       "<!-- 4&#45;&gt;6 -->\n",
       "<g id=\"edge6\" class=\"edge\">\n",
       "<title>4&#45;&gt;6</title>\n",
       "<path fill=\"none\" stroke=\"black\" d=\"M135.36,-88.68C140.82,-80.36 146.7,-71.4 152.23,-62.97\"/>\n",
       "<polygon fill=\"black\" stroke=\"black\" points=\"155.12,-64.94 157.68,-54.66 149.27,-61.1 155.12,-64.94\"/>\n",
       "</g>\n",
       "<!-- 9 -->\n",
       "<g id=\"node10\" class=\"node\">\n",
       "<title>9</title>\n",
       "<path fill=\"#399de5\" stroke=\"black\" d=\"M400,-149.5C400,-149.5 319,-149.5 319,-149.5 313,-149.5 307,-143.5 307,-137.5 307,-137.5 307,-108.5 307,-108.5 307,-102.5 313,-96.5 319,-96.5 319,-96.5 400,-96.5 400,-96.5 406,-96.5 412,-102.5 412,-108.5 412,-108.5 412,-137.5 412,-137.5 412,-143.5 406,-149.5 400,-149.5\"/>\n",
       "<text text-anchor=\"middle\" x=\"359.5\" y=\"-134.3\" font-family=\"Helvetica,sans-Serif\" font-size=\"14.00\">gini = 0.0</text>\n",
       "<text text-anchor=\"middle\" x=\"359.5\" y=\"-119.3\" font-family=\"Helvetica,sans-Serif\" font-size=\"14.00\">samples = 69</text>\n",
       "<text text-anchor=\"middle\" x=\"359.5\" y=\"-104.3\" font-family=\"Helvetica,sans-Serif\" font-size=\"14.00\">value = [0, 69]</text>\n",
       "</g>\n",
       "<!-- 8&#45;&gt;9 -->\n",
       "<g id=\"edge9\" class=\"edge\">\n",
       "<title>8&#45;&gt;9</title>\n",
       "<path fill=\"none\" stroke=\"black\" d=\"M401.2,-192.6C394.71,-181.93 387.51,-170.08 380.94,-159.27\"/>\n",
       "<polygon fill=\"black\" stroke=\"black\" points=\"384.1,-157.73 375.91,-151 378.11,-161.36 384.1,-157.73\"/>\n",
       "</g>\n",
       "<!-- 10 -->\n",
       "<g id=\"node11\" class=\"node\">\n",
       "<title>10</title>\n",
       "<path fill=\"#49a5e7\" stroke=\"black\" d=\"M523,-149.5C523,-149.5 442,-149.5 442,-149.5 436,-149.5 430,-143.5 430,-137.5 430,-137.5 430,-108.5 430,-108.5 430,-102.5 436,-96.5 442,-96.5 442,-96.5 523,-96.5 523,-96.5 529,-96.5 535,-102.5 535,-108.5 535,-108.5 535,-137.5 535,-137.5 535,-143.5 529,-149.5 523,-149.5\"/>\n",
       "<text text-anchor=\"middle\" x=\"482.5\" y=\"-134.3\" font-family=\"Helvetica,sans-Serif\" font-size=\"14.00\">gini = 0.142</text>\n",
       "<text text-anchor=\"middle\" x=\"482.5\" y=\"-119.3\" font-family=\"Helvetica,sans-Serif\" font-size=\"14.00\">samples = 13</text>\n",
       "<text text-anchor=\"middle\" x=\"482.5\" y=\"-104.3\" font-family=\"Helvetica,sans-Serif\" font-size=\"14.00\">value = [1, 12]</text>\n",
       "</g>\n",
       "<!-- 8&#45;&gt;10 -->\n",
       "<g id=\"edge10\" class=\"edge\">\n",
       "<title>8&#45;&gt;10</title>\n",
       "<path fill=\"none\" stroke=\"black\" d=\"M441.47,-192.6C447.86,-181.93 454.94,-170.08 461.41,-159.27\"/>\n",
       "<polygon fill=\"black\" stroke=\"black\" points=\"464.22,-161.38 466.35,-151 458.21,-157.79 464.22,-161.38\"/>\n",
       "</g>\n",
       "<!-- 12 -->\n",
       "<g id=\"node13\" class=\"node\">\n",
       "<title>12</title>\n",
       "<path fill=\"#8cc6f0\" stroke=\"black\" d=\"M772,-261C772,-261 683,-261 683,-261 677,-261 671,-255 671,-249 671,-249 671,-205 671,-205 671,-199 677,-193 683,-193 683,-193 772,-193 772,-193 778,-193 784,-199 784,-205 784,-205 784,-249 784,-249 784,-255 778,-261 772,-261\"/>\n",
       "<text text-anchor=\"middle\" x=\"727.5\" y=\"-245.8\" font-family=\"Helvetica,sans-Serif\" font-size=\"14.00\">X[4] &lt;= 0.5</text>\n",
       "<text text-anchor=\"middle\" x=\"727.5\" y=\"-230.8\" font-family=\"Helvetica,sans-Serif\" font-size=\"14.00\">gini = 0.416</text>\n",
       "<text text-anchor=\"middle\" x=\"727.5\" y=\"-215.8\" font-family=\"Helvetica,sans-Serif\" font-size=\"14.00\">samples = 44</text>\n",
       "<text text-anchor=\"middle\" x=\"727.5\" y=\"-200.8\" font-family=\"Helvetica,sans-Serif\" font-size=\"14.00\">value = [13, 31]</text>\n",
       "</g>\n",
       "<!-- 11&#45;&gt;12 -->\n",
       "<g id=\"edge12\" class=\"edge\">\n",
       "<title>11&#45;&gt;12</title>\n",
       "<path fill=\"none\" stroke=\"black\" d=\"M771.22,-296.6C766,-288.41 760.34,-279.53 754.88,-270.96\"/>\n",
       "<polygon fill=\"black\" stroke=\"black\" points=\"757.97,-269.3 749.64,-262.75 752.07,-273.06 757.97,-269.3\"/>\n",
       "</g>\n",
       "<!-- 17 -->\n",
       "<g id=\"node18\" class=\"node\">\n",
       "<title>17</title>\n",
       "<path fill=\"#f2c09c\" stroke=\"black\" d=\"M903,-261C903,-261 814,-261 814,-261 808,-261 802,-255 802,-249 802,-249 802,-205 802,-205 802,-199 808,-193 814,-193 814,-193 903,-193 903,-193 909,-193 915,-199 915,-205 915,-205 915,-249 915,-249 915,-255 909,-261 903,-261\"/>\n",
       "<text text-anchor=\"middle\" x=\"858.5\" y=\"-245.8\" font-family=\"Helvetica,sans-Serif\" font-size=\"14.00\">X[5] &lt;= 17.6</text>\n",
       "<text text-anchor=\"middle\" x=\"858.5\" y=\"-230.8\" font-family=\"Helvetica,sans-Serif\" font-size=\"14.00\">gini = 0.444</text>\n",
       "<text text-anchor=\"middle\" x=\"858.5\" y=\"-215.8\" font-family=\"Helvetica,sans-Serif\" font-size=\"14.00\">samples = 72</text>\n",
       "<text text-anchor=\"middle\" x=\"858.5\" y=\"-200.8\" font-family=\"Helvetica,sans-Serif\" font-size=\"14.00\">value = [48, 24]</text>\n",
       "</g>\n",
       "<!-- 11&#45;&gt;17 -->\n",
       "<g id=\"edge17\" class=\"edge\">\n",
       "<title>11&#45;&gt;17</title>\n",
       "<path fill=\"none\" stroke=\"black\" d=\"M814.11,-296.6C819.41,-288.41 825.16,-279.53 830.7,-270.96\"/>\n",
       "<polygon fill=\"black\" stroke=\"black\" points=\"833.52,-273.04 836.02,-262.74 827.65,-269.24 833.52,-273.04\"/>\n",
       "</g>\n",
       "<!-- 13 -->\n",
       "<g id=\"node14\" class=\"node\">\n",
       "<title>13</title>\n",
       "<path fill=\"#73baed\" stroke=\"black\" d=\"M646,-157C646,-157 565,-157 565,-157 559,-157 553,-151 553,-145 553,-145 553,-101 553,-101 553,-95 559,-89 565,-89 565,-89 646,-89 646,-89 652,-89 658,-95 658,-101 658,-101 658,-145 658,-145 658,-151 652,-157 646,-157\"/>\n",
       "<text text-anchor=\"middle\" x=\"605.5\" y=\"-141.8\" font-family=\"Helvetica,sans-Serif\" font-size=\"14.00\">X[5] &lt;= 7.79</text>\n",
       "<text text-anchor=\"middle\" x=\"605.5\" y=\"-126.8\" font-family=\"Helvetica,sans-Serif\" font-size=\"14.00\">gini = 0.35</text>\n",
       "<text text-anchor=\"middle\" x=\"605.5\" y=\"-111.8\" font-family=\"Helvetica,sans-Serif\" font-size=\"14.00\">samples = 31</text>\n",
       "<text text-anchor=\"middle\" x=\"605.5\" y=\"-96.8\" font-family=\"Helvetica,sans-Serif\" font-size=\"14.00\">value = [7, 24]</text>\n",
       "</g>\n",
       "<!-- 12&#45;&gt;13 -->\n",
       "<g id=\"edge13\" class=\"edge\">\n",
       "<title>12&#45;&gt;13</title>\n",
       "<path fill=\"none\" stroke=\"black\" d=\"M687.55,-192.6C676.91,-183.71 665.3,-174 654.25,-164.76\"/>\n",
       "<polygon fill=\"black\" stroke=\"black\" points=\"656.62,-162.17 646.7,-158.44 652.13,-167.54 656.62,-162.17\"/>\n",
       "</g>\n",
       "<!-- 16 -->\n",
       "<g id=\"node17\" class=\"node\">\n",
       "<title>16</title>\n",
       "<path fill=\"#e3f1fb\" stroke=\"black\" d=\"M767,-149.5C767,-149.5 688,-149.5 688,-149.5 682,-149.5 676,-143.5 676,-137.5 676,-137.5 676,-108.5 676,-108.5 676,-102.5 682,-96.5 688,-96.5 688,-96.5 767,-96.5 767,-96.5 773,-96.5 779,-102.5 779,-108.5 779,-108.5 779,-137.5 779,-137.5 779,-143.5 773,-149.5 767,-149.5\"/>\n",
       "<text text-anchor=\"middle\" x=\"727.5\" y=\"-134.3\" font-family=\"Helvetica,sans-Serif\" font-size=\"14.00\">gini = 0.497</text>\n",
       "<text text-anchor=\"middle\" x=\"727.5\" y=\"-119.3\" font-family=\"Helvetica,sans-Serif\" font-size=\"14.00\">samples = 13</text>\n",
       "<text text-anchor=\"middle\" x=\"727.5\" y=\"-104.3\" font-family=\"Helvetica,sans-Serif\" font-size=\"14.00\">value = [6, 7]</text>\n",
       "</g>\n",
       "<!-- 12&#45;&gt;16 -->\n",
       "<g id=\"edge16\" class=\"edge\">\n",
       "<title>12&#45;&gt;16</title>\n",
       "<path fill=\"none\" stroke=\"black\" d=\"M727.5,-192.6C727.5,-182.47 727.5,-171.28 727.5,-160.93\"/>\n",
       "<polygon fill=\"black\" stroke=\"black\" points=\"731,-161.22 727.5,-151.22 724,-161.22 731,-161.22\"/>\n",
       "</g>\n",
       "<!-- 14 -->\n",
       "<g id=\"node15\" class=\"node\">\n",
       "<title>14</title>\n",
       "<path fill=\"#76bbed\" stroke=\"black\" d=\"M523,-53C523,-53 442,-53 442,-53 436,-53 430,-47 430,-41 430,-41 430,-12 430,-12 430,-6 436,0 442,0 442,0 523,0 523,0 529,0 535,-6 535,-12 535,-12 535,-41 535,-41 535,-47 529,-53 523,-53\"/>\n",
       "<text text-anchor=\"middle\" x=\"482.5\" y=\"-37.8\" font-family=\"Helvetica,sans-Serif\" font-size=\"14.00\">gini = 0.36</text>\n",
       "<text text-anchor=\"middle\" x=\"482.5\" y=\"-22.8\" font-family=\"Helvetica,sans-Serif\" font-size=\"14.00\">samples = 17</text>\n",
       "<text text-anchor=\"middle\" x=\"482.5\" y=\"-7.8\" font-family=\"Helvetica,sans-Serif\" font-size=\"14.00\">value = [4, 13]</text>\n",
       "</g>\n",
       "<!-- 13&#45;&gt;14 -->\n",
       "<g id=\"edge14\" class=\"edge\">\n",
       "<title>13&#45;&gt;14</title>\n",
       "<path fill=\"none\" stroke=\"black\" d=\"M562.13,-88.68C550.12,-79.45 537.09,-69.44 525.12,-60.24\"/>\n",
       "<polygon fill=\"black\" stroke=\"black\" points=\"527.47,-57.63 517.4,-54.32 523.2,-63.18 527.47,-57.63\"/>\n",
       "</g>\n",
       "<!-- 15 -->\n",
       "<g id=\"node16\" class=\"node\">\n",
       "<title>15</title>\n",
       "<path fill=\"#6fb8ec\" stroke=\"black\" d=\"M646,-53C646,-53 565,-53 565,-53 559,-53 553,-47 553,-41 553,-41 553,-12 553,-12 553,-6 559,0 565,0 565,0 646,0 646,0 652,0 658,-6 658,-12 658,-12 658,-41 658,-41 658,-47 652,-53 646,-53\"/>\n",
       "<text text-anchor=\"middle\" x=\"605.5\" y=\"-37.8\" font-family=\"Helvetica,sans-Serif\" font-size=\"14.00\">gini = 0.337</text>\n",
       "<text text-anchor=\"middle\" x=\"605.5\" y=\"-22.8\" font-family=\"Helvetica,sans-Serif\" font-size=\"14.00\">samples = 14</text>\n",
       "<text text-anchor=\"middle\" x=\"605.5\" y=\"-7.8\" font-family=\"Helvetica,sans-Serif\" font-size=\"14.00\">value = [3, 11]</text>\n",
       "</g>\n",
       "<!-- 13&#45;&gt;15 -->\n",
       "<g id=\"edge15\" class=\"edge\">\n",
       "<title>13&#45;&gt;15</title>\n",
       "<path fill=\"none\" stroke=\"black\" d=\"M605.5,-88.68C605.5,-80.99 605.5,-72.76 605.5,-64.9\"/>\n",
       "<polygon fill=\"black\" stroke=\"black\" points=\"609,-64.91 605.5,-54.91 602,-64.91 609,-64.91\"/>\n",
       "</g>\n",
       "<!-- 18 -->\n",
       "<g id=\"node19\" class=\"node\">\n",
       "<title>18</title>\n",
       "<path fill=\"#fef9f6\" stroke=\"black\" d=\"M901,-157C901,-157 812,-157 812,-157 806,-157 800,-151 800,-145 800,-145 800,-101 800,-101 800,-95 806,-89 812,-89 812,-89 901,-89 901,-89 907,-89 913,-95 913,-101 913,-101 913,-145 913,-145 913,-151 907,-157 901,-157\"/>\n",
       "<text text-anchor=\"middle\" x=\"856.5\" y=\"-141.8\" font-family=\"Helvetica,sans-Serif\" font-size=\"14.00\">X[5] &lt;= 10.798</text>\n",
       "<text text-anchor=\"middle\" x=\"856.5\" y=\"-126.8\" font-family=\"Helvetica,sans-Serif\" font-size=\"14.00\">gini = 0.5</text>\n",
       "<text text-anchor=\"middle\" x=\"856.5\" y=\"-111.8\" font-family=\"Helvetica,sans-Serif\" font-size=\"14.00\">samples = 43</text>\n",
       "<text text-anchor=\"middle\" x=\"856.5\" y=\"-96.8\" font-family=\"Helvetica,sans-Serif\" font-size=\"14.00\">value = [22, 21]</text>\n",
       "</g>\n",
       "<!-- 17&#45;&gt;18 -->\n",
       "<g id=\"edge18\" class=\"edge\">\n",
       "<title>17&#45;&gt;18</title>\n",
       "<path fill=\"none\" stroke=\"black\" d=\"M857.85,-192.6C857.7,-185.03 857.54,-176.87 857.38,-168.9\"/>\n",
       "<polygon fill=\"black\" stroke=\"black\" points=\"860.88,-168.92 857.19,-158.99 853.88,-169.05 860.88,-168.92\"/>\n",
       "</g>\n",
       "<!-- 21 -->\n",
       "<g id=\"node22\" class=\"node\">\n",
       "<title>21</title>\n",
       "<path fill=\"#e89050\" stroke=\"black\" d=\"M1024,-157C1024,-157 943,-157 943,-157 937,-157 931,-151 931,-145 931,-145 931,-101 931,-101 931,-95 937,-89 943,-89 943,-89 1024,-89 1024,-89 1030,-89 1036,-95 1036,-101 1036,-101 1036,-145 1036,-145 1036,-151 1030,-157 1024,-157\"/>\n",
       "<text text-anchor=\"middle\" x=\"983.5\" y=\"-141.8\" font-family=\"Helvetica,sans-Serif\" font-size=\"14.00\">X[2] &lt;= 17.0</text>\n",
       "<text text-anchor=\"middle\" x=\"983.5\" y=\"-126.8\" font-family=\"Helvetica,sans-Serif\" font-size=\"14.00\">gini = 0.185</text>\n",
       "<text text-anchor=\"middle\" x=\"983.5\" y=\"-111.8\" font-family=\"Helvetica,sans-Serif\" font-size=\"14.00\">samples = 29</text>\n",
       "<text text-anchor=\"middle\" x=\"983.5\" y=\"-96.8\" font-family=\"Helvetica,sans-Serif\" font-size=\"14.00\">value = [26, 3]</text>\n",
       "</g>\n",
       "<!-- 17&#45;&gt;21 -->\n",
       "<g id=\"edge21\" class=\"edge\">\n",
       "<title>17&#45;&gt;21</title>\n",
       "<path fill=\"none\" stroke=\"black\" d=\"M899.43,-192.6C910.44,-183.62 922.46,-173.81 933.89,-164.49\"/>\n",
       "<polygon fill=\"black\" stroke=\"black\" points=\"935.77,-167.46 941.31,-158.43 931.35,-162.04 935.77,-167.46\"/>\n",
       "</g>\n",
       "<!-- 19 -->\n",
       "<g id=\"node20\" class=\"node\">\n",
       "<title>19</title>\n",
       "<path fill=\"#f5d1b6\" stroke=\"black\" d=\"M777,-53C777,-53 688,-53 688,-53 682,-53 676,-47 676,-41 676,-41 676,-12 676,-12 676,-6 682,0 688,0 688,0 777,0 777,0 783,0 789,-6 789,-12 789,-12 789,-41 789,-41 789,-47 783,-53 777,-53\"/>\n",
       "<text text-anchor=\"middle\" x=\"732.5\" y=\"-37.8\" font-family=\"Helvetica,sans-Serif\" font-size=\"14.00\">gini = 0.475</text>\n",
       "<text text-anchor=\"middle\" x=\"732.5\" y=\"-22.8\" font-family=\"Helvetica,sans-Serif\" font-size=\"14.00\">samples = 31</text>\n",
       "<text text-anchor=\"middle\" x=\"732.5\" y=\"-7.8\" font-family=\"Helvetica,sans-Serif\" font-size=\"14.00\">value = [19, 12]</text>\n",
       "</g>\n",
       "<!-- 18&#45;&gt;19 -->\n",
       "<g id=\"edge19\" class=\"edge\">\n",
       "<title>18&#45;&gt;19</title>\n",
       "<path fill=\"none\" stroke=\"black\" d=\"M812.78,-88.68C800.67,-79.45 787.53,-69.44 775.46,-60.24\"/>\n",
       "<polygon fill=\"black\" stroke=\"black\" points=\"777.76,-57.59 767.68,-54.31 773.51,-63.16 777.76,-57.59\"/>\n",
       "</g>\n",
       "<!-- 20 -->\n",
       "<g id=\"node21\" class=\"node\">\n",
       "<title>20</title>\n",
       "<path fill=\"#7bbeee\" stroke=\"black\" d=\"M898,-53C898,-53 819,-53 819,-53 813,-53 807,-47 807,-41 807,-41 807,-12 807,-12 807,-6 813,0 819,0 819,0 898,0 898,0 904,0 910,-6 910,-12 910,-12 910,-41 910,-41 910,-47 904,-53 898,-53\"/>\n",
       "<text text-anchor=\"middle\" x=\"858.5\" y=\"-37.8\" font-family=\"Helvetica,sans-Serif\" font-size=\"14.00\">gini = 0.375</text>\n",
       "<text text-anchor=\"middle\" x=\"858.5\" y=\"-22.8\" font-family=\"Helvetica,sans-Serif\" font-size=\"14.00\">samples = 12</text>\n",
       "<text text-anchor=\"middle\" x=\"858.5\" y=\"-7.8\" font-family=\"Helvetica,sans-Serif\" font-size=\"14.00\">value = [3, 9]</text>\n",
       "</g>\n",
       "<!-- 18&#45;&gt;20 -->\n",
       "<g id=\"edge20\" class=\"edge\">\n",
       "<title>18&#45;&gt;20</title>\n",
       "<path fill=\"none\" stroke=\"black\" d=\"M857.21,-88.68C857.37,-80.99 857.54,-72.76 857.71,-64.9\"/>\n",
       "<polygon fill=\"black\" stroke=\"black\" points=\"861.21,-64.98 857.92,-54.91 854.21,-64.83 861.21,-64.98\"/>\n",
       "</g>\n",
       "<!-- 22 -->\n",
       "<g id=\"node23\" class=\"node\">\n",
       "<title>22</title>\n",
       "<path fill=\"#eca06a\" stroke=\"black\" d=\"M1019,-53C1019,-53 940,-53 940,-53 934,-53 928,-47 928,-41 928,-41 928,-12 928,-12 928,-6 934,0 940,0 940,0 1019,0 1019,0 1025,0 1031,-6 1031,-12 1031,-12 1031,-41 1031,-41 1031,-47 1025,-53 1019,-53\"/>\n",
       "<text text-anchor=\"middle\" x=\"979.5\" y=\"-37.8\" font-family=\"Helvetica,sans-Serif\" font-size=\"14.00\">gini = 0.32</text>\n",
       "<text text-anchor=\"middle\" x=\"979.5\" y=\"-22.8\" font-family=\"Helvetica,sans-Serif\" font-size=\"14.00\">samples = 10</text>\n",
       "<text text-anchor=\"middle\" x=\"979.5\" y=\"-7.8\" font-family=\"Helvetica,sans-Serif\" font-size=\"14.00\">value = [8, 2]</text>\n",
       "</g>\n",
       "<!-- 21&#45;&gt;22 -->\n",
       "<g id=\"edge22\" class=\"edge\">\n",
       "<title>21&#45;&gt;22</title>\n",
       "<path fill=\"none\" stroke=\"black\" d=\"M982.09,-88.68C981.76,-80.9 981.41,-72.56 981.07,-64.63\"/>\n",
       "<polygon fill=\"black\" stroke=\"black\" points=\"984.58,-64.75 980.66,-54.91 977.59,-65.05 984.58,-64.75\"/>\n",
       "</g>\n",
       "<!-- 23 -->\n",
       "<g id=\"node24\" class=\"node\">\n",
       "<title>23</title>\n",
       "<path fill=\"#e68844\" stroke=\"black\" d=\"M1142,-53C1142,-53 1061,-53 1061,-53 1055,-53 1049,-47 1049,-41 1049,-41 1049,-12 1049,-12 1049,-6 1055,0 1061,0 1061,0 1142,0 1142,0 1148,0 1154,-6 1154,-12 1154,-12 1154,-41 1154,-41 1154,-47 1148,-53 1142,-53\"/>\n",
       "<text text-anchor=\"middle\" x=\"1101.5\" y=\"-37.8\" font-family=\"Helvetica,sans-Serif\" font-size=\"14.00\">gini = 0.1</text>\n",
       "<text text-anchor=\"middle\" x=\"1101.5\" y=\"-22.8\" font-family=\"Helvetica,sans-Serif\" font-size=\"14.00\">samples = 19</text>\n",
       "<text text-anchor=\"middle\" x=\"1101.5\" y=\"-7.8\" font-family=\"Helvetica,sans-Serif\" font-size=\"14.00\">value = [18, 1]</text>\n",
       "</g>\n",
       "<!-- 21&#45;&gt;23 -->\n",
       "<g id=\"edge23\" class=\"edge\">\n",
       "<title>21&#45;&gt;23</title>\n",
       "<path fill=\"none\" stroke=\"black\" d=\"M1025.1,-88.68C1036.52,-79.54 1048.88,-69.64 1060.28,-60.51\"/>\n",
       "<polygon fill=\"black\" stroke=\"black\" points=\"1062.37,-63.32 1067.99,-54.34 1057.99,-57.86 1062.37,-63.32\"/>\n",
       "</g>\n",
       "<!-- 25 -->\n",
       "<g id=\"node26\" class=\"node\">\n",
       "<title>25</title>\n",
       "<path fill=\"#e89253\" stroke=\"black\" d=\"M1460.5,-365C1460.5,-365 1362.5,-365 1362.5,-365 1356.5,-365 1350.5,-359 1350.5,-353 1350.5,-353 1350.5,-309 1350.5,-309 1350.5,-303 1356.5,-297 1362.5,-297 1362.5,-297 1460.5,-297 1460.5,-297 1466.5,-297 1472.5,-303 1472.5,-309 1472.5,-309 1472.5,-353 1472.5,-353 1472.5,-359 1466.5,-365 1460.5,-365\"/>\n",
       "<text text-anchor=\"middle\" x=\"1411.5\" y=\"-349.8\" font-family=\"Helvetica,sans-Serif\" font-size=\"14.00\">X[5] &lt;= 7.91</text>\n",
       "<text text-anchor=\"middle\" x=\"1411.5\" y=\"-334.8\" font-family=\"Helvetica,sans-Serif\" font-size=\"14.00\">gini = 0.206</text>\n",
       "<text text-anchor=\"middle\" x=\"1411.5\" y=\"-319.8\" font-family=\"Helvetica,sans-Serif\" font-size=\"14.00\">samples = 275</text>\n",
       "<text text-anchor=\"middle\" x=\"1411.5\" y=\"-304.8\" font-family=\"Helvetica,sans-Serif\" font-size=\"14.00\">value = [243, 32]</text>\n",
       "</g>\n",
       "<!-- 24&#45;&gt;25 -->\n",
       "<g id=\"edge25\" class=\"edge\">\n",
       "<title>24&#45;&gt;25</title>\n",
       "<path fill=\"none\" stroke=\"black\" d=\"M1411.5,-400.6C1411.5,-393.03 1411.5,-384.87 1411.5,-376.9\"/>\n",
       "<polygon fill=\"black\" stroke=\"black\" points=\"1415,-376.99 1411.5,-366.99 1408,-376.99 1415,-376.99\"/>\n",
       "</g>\n",
       "<!-- 36 -->\n",
       "<g id=\"node37\" class=\"node\">\n",
       "<title>36</title>\n",
       "<path fill=\"#f1bd97\" stroke=\"black\" d=\"M1851.5,-365C1851.5,-365 1753.5,-365 1753.5,-365 1747.5,-365 1741.5,-359 1741.5,-353 1741.5,-353 1741.5,-309 1741.5,-309 1741.5,-303 1747.5,-297 1753.5,-297 1753.5,-297 1851.5,-297 1851.5,-297 1857.5,-297 1863.5,-303 1863.5,-309 1863.5,-309 1863.5,-353 1863.5,-353 1863.5,-359 1857.5,-365 1851.5,-365\"/>\n",
       "<text text-anchor=\"middle\" x=\"1802.5\" y=\"-349.8\" font-family=\"Helvetica,sans-Serif\" font-size=\"14.00\">X[3] &lt;= 2.5</text>\n",
       "<text text-anchor=\"middle\" x=\"1802.5\" y=\"-334.8\" font-family=\"Helvetica,sans-Serif\" font-size=\"14.00\">gini = 0.437</text>\n",
       "<text text-anchor=\"middle\" x=\"1802.5\" y=\"-319.8\" font-family=\"Helvetica,sans-Serif\" font-size=\"14.00\">samples = 189</text>\n",
       "<text text-anchor=\"middle\" x=\"1802.5\" y=\"-304.8\" font-family=\"Helvetica,sans-Serif\" font-size=\"14.00\">value = [128, 61]</text>\n",
       "</g>\n",
       "<!-- 24&#45;&gt;36 -->\n",
       "<g id=\"edge36\" class=\"edge\">\n",
       "<title>24&#45;&gt;36</title>\n",
       "<path fill=\"none\" stroke=\"black\" d=\"M1472.59,-418.06C1542.26,-399.89 1656.06,-370.2 1730.11,-350.88\"/>\n",
       "<polygon fill=\"black\" stroke=\"black\" points=\"1730.93,-354.29 1739.73,-348.38 1729.17,-347.51 1730.93,-354.29\"/>\n",
       "</g>\n",
       "<!-- 26 -->\n",
       "<g id=\"node27\" class=\"node\">\n",
       "<title>26</title>\n",
       "<path fill=\"#e78945\" stroke=\"black\" d=\"M1388,-261C1388,-261 1299,-261 1299,-261 1293,-261 1287,-255 1287,-249 1287,-249 1287,-205 1287,-205 1287,-199 1293,-193 1299,-193 1299,-193 1388,-193 1388,-193 1394,-193 1400,-199 1400,-205 1400,-205 1400,-249 1400,-249 1400,-255 1394,-261 1388,-261\"/>\n",
       "<text text-anchor=\"middle\" x=\"1343.5\" y=\"-245.8\" font-family=\"Helvetica,sans-Serif\" font-size=\"14.00\">X[5] &lt;= 7.865</text>\n",
       "<text text-anchor=\"middle\" x=\"1343.5\" y=\"-230.8\" font-family=\"Helvetica,sans-Serif\" font-size=\"14.00\">gini = 0.111</text>\n",
       "<text text-anchor=\"middle\" x=\"1343.5\" y=\"-215.8\" font-family=\"Helvetica,sans-Serif\" font-size=\"14.00\">samples = 136</text>\n",
       "<text text-anchor=\"middle\" x=\"1343.5\" y=\"-200.8\" font-family=\"Helvetica,sans-Serif\" font-size=\"14.00\">value = [128, 8]</text>\n",
       "</g>\n",
       "<!-- 25&#45;&gt;26 -->\n",
       "<g id=\"edge26\" class=\"edge\">\n",
       "<title>25&#45;&gt;26</title>\n",
       "<path fill=\"none\" stroke=\"black\" d=\"M1389.23,-296.6C1383.77,-288.41 1377.85,-279.53 1372.14,-270.96\"/>\n",
       "<polygon fill=\"black\" stroke=\"black\" points=\"1375.11,-269.11 1366.66,-262.73 1369.29,-272.99 1375.11,-269.11\"/>\n",
       "</g>\n",
       "<!-- 31 -->\n",
       "<g id=\"node32\" class=\"node\">\n",
       "<title>31</title>\n",
       "<path fill=\"#ea9b62\" stroke=\"black\" d=\"M1528.5,-261C1528.5,-261 1430.5,-261 1430.5,-261 1424.5,-261 1418.5,-255 1418.5,-249 1418.5,-249 1418.5,-205 1418.5,-205 1418.5,-199 1424.5,-193 1430.5,-193 1430.5,-193 1528.5,-193 1528.5,-193 1534.5,-193 1540.5,-199 1540.5,-205 1540.5,-205 1540.5,-249 1540.5,-249 1540.5,-255 1534.5,-261 1528.5,-261\"/>\n",
       "<text text-anchor=\"middle\" x=\"1479.5\" y=\"-245.8\" font-family=\"Helvetica,sans-Serif\" font-size=\"14.00\">X[2] &lt;= 19.5</text>\n",
       "<text text-anchor=\"middle\" x=\"1479.5\" y=\"-230.8\" font-family=\"Helvetica,sans-Serif\" font-size=\"14.00\">gini = 0.286</text>\n",
       "<text text-anchor=\"middle\" x=\"1479.5\" y=\"-215.8\" font-family=\"Helvetica,sans-Serif\" font-size=\"14.00\">samples = 139</text>\n",
       "<text text-anchor=\"middle\" x=\"1479.5\" y=\"-200.8\" font-family=\"Helvetica,sans-Serif\" font-size=\"14.00\">value = [115, 24]</text>\n",
       "</g>\n",
       "<!-- 25&#45;&gt;31 -->\n",
       "<g id=\"edge31\" class=\"edge\">\n",
       "<title>25&#45;&gt;31</title>\n",
       "<path fill=\"none\" stroke=\"black\" d=\"M1433.77,-296.6C1439.23,-288.41 1445.15,-279.53 1450.86,-270.96\"/>\n",
       "<polygon fill=\"black\" stroke=\"black\" points=\"1453.71,-272.99 1456.34,-262.73 1447.89,-269.11 1453.71,-272.99\"/>\n",
       "</g>\n",
       "<!-- 27 -->\n",
       "<g id=\"node28\" class=\"node\">\n",
       "<title>27</title>\n",
       "<path fill=\"#e78b49\" stroke=\"black\" d=\"M1268,-157C1268,-157 1181,-157 1181,-157 1175,-157 1169,-151 1169,-145 1169,-145 1169,-101 1169,-101 1169,-95 1175,-89 1181,-89 1181,-89 1268,-89 1268,-89 1274,-89 1280,-95 1280,-101 1280,-101 1280,-145 1280,-145 1280,-151 1274,-157 1268,-157\"/>\n",
       "<text text-anchor=\"middle\" x=\"1224.5\" y=\"-141.8\" font-family=\"Helvetica,sans-Serif\" font-size=\"14.00\">X[2] &lt;= 32.5</text>\n",
       "<text text-anchor=\"middle\" x=\"1224.5\" y=\"-126.8\" font-family=\"Helvetica,sans-Serif\" font-size=\"14.00\">gini = 0.141</text>\n",
       "<text text-anchor=\"middle\" x=\"1224.5\" y=\"-111.8\" font-family=\"Helvetica,sans-Serif\" font-size=\"14.00\">samples = 105</text>\n",
       "<text text-anchor=\"middle\" x=\"1224.5\" y=\"-96.8\" font-family=\"Helvetica,sans-Serif\" font-size=\"14.00\">value = [97, 8]</text>\n",
       "</g>\n",
       "<!-- 26&#45;&gt;27 -->\n",
       "<g id=\"edge27\" class=\"edge\">\n",
       "<title>26&#45;&gt;27</title>\n",
       "<path fill=\"none\" stroke=\"black\" d=\"M1304.53,-192.6C1294.16,-183.71 1282.83,-174 1272.05,-164.76\"/>\n",
       "<polygon fill=\"black\" stroke=\"black\" points=\"1274.57,-162.31 1264.7,-158.46 1270.02,-167.62 1274.57,-162.31\"/>\n",
       "</g>\n",
       "<!-- 30 -->\n",
       "<g id=\"node31\" class=\"node\">\n",
       "<title>30</title>\n",
       "<path fill=\"#e58139\" stroke=\"black\" d=\"M1391,-149.5C1391,-149.5 1310,-149.5 1310,-149.5 1304,-149.5 1298,-143.5 1298,-137.5 1298,-137.5 1298,-108.5 1298,-108.5 1298,-102.5 1304,-96.5 1310,-96.5 1310,-96.5 1391,-96.5 1391,-96.5 1397,-96.5 1403,-102.5 1403,-108.5 1403,-108.5 1403,-137.5 1403,-137.5 1403,-143.5 1397,-149.5 1391,-149.5\"/>\n",
       "<text text-anchor=\"middle\" x=\"1350.5\" y=\"-134.3\" font-family=\"Helvetica,sans-Serif\" font-size=\"14.00\">gini = 0.0</text>\n",
       "<text text-anchor=\"middle\" x=\"1350.5\" y=\"-119.3\" font-family=\"Helvetica,sans-Serif\" font-size=\"14.00\">samples = 31</text>\n",
       "<text text-anchor=\"middle\" x=\"1350.5\" y=\"-104.3\" font-family=\"Helvetica,sans-Serif\" font-size=\"14.00\">value = [31, 0]</text>\n",
       "</g>\n",
       "<!-- 26&#45;&gt;30 -->\n",
       "<g id=\"edge30\" class=\"edge\">\n",
       "<title>26&#45;&gt;30</title>\n",
       "<path fill=\"none\" stroke=\"black\" d=\"M1345.79,-192.6C1346.49,-182.47 1347.26,-171.28 1347.97,-160.93\"/>\n",
       "<polygon fill=\"black\" stroke=\"black\" points=\"1351.44,-161.43 1348.63,-151.22 1344.46,-160.95 1351.44,-161.43\"/>\n",
       "</g>\n",
       "<!-- 28 -->\n",
       "<g id=\"node29\" class=\"node\">\n",
       "<title>28</title>\n",
       "<path fill=\"#e88f4e\" stroke=\"black\" d=\"M1265,-53C1265,-53 1184,-53 1184,-53 1178,-53 1172,-47 1172,-41 1172,-41 1172,-12 1172,-12 1172,-6 1178,0 1184,0 1184,0 1265,0 1265,0 1271,0 1277,-6 1277,-12 1277,-12 1277,-41 1277,-41 1277,-47 1271,-53 1265,-53\"/>\n",
       "<text text-anchor=\"middle\" x=\"1224.5\" y=\"-37.8\" font-family=\"Helvetica,sans-Serif\" font-size=\"14.00\">gini = 0.176</text>\n",
       "<text text-anchor=\"middle\" x=\"1224.5\" y=\"-22.8\" font-family=\"Helvetica,sans-Serif\" font-size=\"14.00\">samples = 82</text>\n",
       "<text text-anchor=\"middle\" x=\"1224.5\" y=\"-7.8\" font-family=\"Helvetica,sans-Serif\" font-size=\"14.00\">value = [74, 8]</text>\n",
       "</g>\n",
       "<!-- 27&#45;&gt;28 -->\n",
       "<g id=\"edge28\" class=\"edge\">\n",
       "<title>27&#45;&gt;28</title>\n",
       "<path fill=\"none\" stroke=\"black\" d=\"M1224.5,-88.68C1224.5,-80.99 1224.5,-72.76 1224.5,-64.9\"/>\n",
       "<polygon fill=\"black\" stroke=\"black\" points=\"1228,-64.91 1224.5,-54.91 1221,-64.91 1228,-64.91\"/>\n",
       "</g>\n",
       "<!-- 29 -->\n",
       "<g id=\"node30\" class=\"node\">\n",
       "<title>29</title>\n",
       "<path fill=\"#e58139\" stroke=\"black\" d=\"M1388,-53C1388,-53 1307,-53 1307,-53 1301,-53 1295,-47 1295,-41 1295,-41 1295,-12 1295,-12 1295,-6 1301,0 1307,0 1307,0 1388,0 1388,0 1394,0 1400,-6 1400,-12 1400,-12 1400,-41 1400,-41 1400,-47 1394,-53 1388,-53\"/>\n",
       "<text text-anchor=\"middle\" x=\"1347.5\" y=\"-37.8\" font-family=\"Helvetica,sans-Serif\" font-size=\"14.00\">gini = 0.0</text>\n",
       "<text text-anchor=\"middle\" x=\"1347.5\" y=\"-22.8\" font-family=\"Helvetica,sans-Serif\" font-size=\"14.00\">samples = 23</text>\n",
       "<text text-anchor=\"middle\" x=\"1347.5\" y=\"-7.8\" font-family=\"Helvetica,sans-Serif\" font-size=\"14.00\">value = [23, 0]</text>\n",
       "</g>\n",
       "<!-- 27&#45;&gt;29 -->\n",
       "<g id=\"edge29\" class=\"edge\">\n",
       "<title>27&#45;&gt;29</title>\n",
       "<path fill=\"none\" stroke=\"black\" d=\"M1267.87,-88.68C1279.88,-79.45 1292.91,-69.44 1304.88,-60.24\"/>\n",
       "<polygon fill=\"black\" stroke=\"black\" points=\"1306.8,-63.18 1312.6,-54.32 1302.53,-57.63 1306.8,-63.18\"/>\n",
       "</g>\n",
       "<!-- 32 -->\n",
       "<g id=\"node33\" class=\"node\">\n",
       "<title>32</title>\n",
       "<path fill=\"#f1bb94\" stroke=\"black\" d=\"M1514,-149.5C1514,-149.5 1433,-149.5 1433,-149.5 1427,-149.5 1421,-143.5 1421,-137.5 1421,-137.5 1421,-108.5 1421,-108.5 1421,-102.5 1427,-96.5 1433,-96.5 1433,-96.5 1514,-96.5 1514,-96.5 1520,-96.5 1526,-102.5 1526,-108.5 1526,-108.5 1526,-137.5 1526,-137.5 1526,-143.5 1520,-149.5 1514,-149.5\"/>\n",
       "<text text-anchor=\"middle\" x=\"1473.5\" y=\"-134.3\" font-family=\"Helvetica,sans-Serif\" font-size=\"14.00\">gini = 0.432</text>\n",
       "<text text-anchor=\"middle\" x=\"1473.5\" y=\"-119.3\" font-family=\"Helvetica,sans-Serif\" font-size=\"14.00\">samples = 19</text>\n",
       "<text text-anchor=\"middle\" x=\"1473.5\" y=\"-104.3\" font-family=\"Helvetica,sans-Serif\" font-size=\"14.00\">value = [13, 6]</text>\n",
       "</g>\n",
       "<!-- 31&#45;&gt;32 -->\n",
       "<g id=\"edge32\" class=\"edge\">\n",
       "<title>31&#45;&gt;32</title>\n",
       "<path fill=\"none\" stroke=\"black\" d=\"M1477.54,-192.6C1476.94,-182.47 1476.28,-171.28 1475.67,-160.93\"/>\n",
       "<polygon fill=\"black\" stroke=\"black\" points=\"1479.18,-160.99 1475.1,-151.22 1472.19,-161.41 1479.18,-160.99\"/>\n",
       "</g>\n",
       "<!-- 33 -->\n",
       "<g id=\"node34\" class=\"node\">\n",
       "<title>33</title>\n",
       "<path fill=\"#ea975c\" stroke=\"black\" d=\"M1654.5,-157C1654.5,-157 1556.5,-157 1556.5,-157 1550.5,-157 1544.5,-151 1544.5,-145 1544.5,-145 1544.5,-101 1544.5,-101 1544.5,-95 1550.5,-89 1556.5,-89 1556.5,-89 1654.5,-89 1654.5,-89 1660.5,-89 1666.5,-95 1666.5,-101 1666.5,-101 1666.5,-145 1666.5,-145 1666.5,-151 1660.5,-157 1654.5,-157\"/>\n",
       "<text text-anchor=\"middle\" x=\"1605.5\" y=\"-141.8\" font-family=\"Helvetica,sans-Serif\" font-size=\"14.00\">X[2] &lt;= 26.5</text>\n",
       "<text text-anchor=\"middle\" x=\"1605.5\" y=\"-126.8\" font-family=\"Helvetica,sans-Serif\" font-size=\"14.00\">gini = 0.255</text>\n",
       "<text text-anchor=\"middle\" x=\"1605.5\" y=\"-111.8\" font-family=\"Helvetica,sans-Serif\" font-size=\"14.00\">samples = 120</text>\n",
       "<text text-anchor=\"middle\" x=\"1605.5\" y=\"-96.8\" font-family=\"Helvetica,sans-Serif\" font-size=\"14.00\">value = [102, 18]</text>\n",
       "</g>\n",
       "<!-- 31&#45;&gt;33 -->\n",
       "<g id=\"edge33\" class=\"edge\">\n",
       "<title>31&#45;&gt;33</title>\n",
       "<path fill=\"none\" stroke=\"black\" d=\"M1520.76,-192.6C1531.85,-183.62 1543.97,-173.81 1555.49,-164.49\"/>\n",
       "<polygon fill=\"black\" stroke=\"black\" points=\"1557.4,-167.44 1562.97,-158.43 1553,-162 1557.4,-167.44\"/>\n",
       "</g>\n",
       "<!-- 34 -->\n",
       "<g id=\"node35\" class=\"node\">\n",
       "<title>34</title>\n",
       "<path fill=\"#e58139\" stroke=\"black\" d=\"M1585,-53C1585,-53 1504,-53 1504,-53 1498,-53 1492,-47 1492,-41 1492,-41 1492,-12 1492,-12 1492,-6 1498,0 1504,0 1504,0 1585,0 1585,0 1591,0 1597,-6 1597,-12 1597,-12 1597,-41 1597,-41 1597,-47 1591,-53 1585,-53\"/>\n",
       "<text text-anchor=\"middle\" x=\"1544.5\" y=\"-37.8\" font-family=\"Helvetica,sans-Serif\" font-size=\"14.00\">gini = 0.0</text>\n",
       "<text text-anchor=\"middle\" x=\"1544.5\" y=\"-22.8\" font-family=\"Helvetica,sans-Serif\" font-size=\"14.00\">samples = 26</text>\n",
       "<text text-anchor=\"middle\" x=\"1544.5\" y=\"-7.8\" font-family=\"Helvetica,sans-Serif\" font-size=\"14.00\">value = [26, 0]</text>\n",
       "</g>\n",
       "<!-- 33&#45;&gt;34 -->\n",
       "<g id=\"edge34\" class=\"edge\">\n",
       "<title>33&#45;&gt;34</title>\n",
       "<path fill=\"none\" stroke=\"black\" d=\"M1583.99,-88.68C1578.62,-80.36 1572.84,-71.4 1567.4,-62.97\"/>\n",
       "<polygon fill=\"black\" stroke=\"black\" points=\"1570.4,-61.17 1562.04,-54.67 1564.52,-64.97 1570.4,-61.17\"/>\n",
       "</g>\n",
       "<!-- 35 -->\n",
       "<g id=\"node36\" class=\"node\">\n",
       "<title>35</title>\n",
       "<path fill=\"#eb9f68\" stroke=\"black\" d=\"M1716,-53C1716,-53 1627,-53 1627,-53 1621,-53 1615,-47 1615,-41 1615,-41 1615,-12 1615,-12 1615,-6 1621,0 1627,0 1627,0 1716,0 1716,0 1722,0 1728,-6 1728,-12 1728,-12 1728,-41 1728,-41 1728,-47 1722,-53 1716,-53\"/>\n",
       "<text text-anchor=\"middle\" x=\"1671.5\" y=\"-37.8\" font-family=\"Helvetica,sans-Serif\" font-size=\"14.00\">gini = 0.31</text>\n",
       "<text text-anchor=\"middle\" x=\"1671.5\" y=\"-22.8\" font-family=\"Helvetica,sans-Serif\" font-size=\"14.00\">samples = 94</text>\n",
       "<text text-anchor=\"middle\" x=\"1671.5\" y=\"-7.8\" font-family=\"Helvetica,sans-Serif\" font-size=\"14.00\">value = [76, 18]</text>\n",
       "</g>\n",
       "<!-- 33&#45;&gt;35 -->\n",
       "<g id=\"edge35\" class=\"edge\">\n",
       "<title>33&#45;&gt;35</title>\n",
       "<path fill=\"none\" stroke=\"black\" d=\"M1628.77,-88.68C1634.65,-80.27 1640.98,-71.2 1646.92,-62.7\"/>\n",
       "<polygon fill=\"black\" stroke=\"black\" points=\"1649.69,-64.84 1652.55,-54.63 1643.95,-60.83 1649.69,-64.84\"/>\n",
       "</g>\n",
       "<!-- 37 -->\n",
       "<g id=\"node38\" class=\"node\">\n",
       "<title>37</title>\n",
       "<path fill=\"#f4c8a8\" stroke=\"black\" d=\"M1851.5,-261C1851.5,-261 1753.5,-261 1753.5,-261 1747.5,-261 1741.5,-255 1741.5,-249 1741.5,-249 1741.5,-205 1741.5,-205 1741.5,-199 1747.5,-193 1753.5,-193 1753.5,-193 1851.5,-193 1851.5,-193 1857.5,-193 1863.5,-199 1863.5,-205 1863.5,-205 1863.5,-249 1863.5,-249 1863.5,-255 1857.5,-261 1851.5,-261\"/>\n",
       "<text text-anchor=\"middle\" x=\"1802.5\" y=\"-245.8\" font-family=\"Helvetica,sans-Serif\" font-size=\"14.00\">X[2] &lt;= 10.0</text>\n",
       "<text text-anchor=\"middle\" x=\"1802.5\" y=\"-230.8\" font-family=\"Helvetica,sans-Serif\" font-size=\"14.00\">gini = 0.46</text>\n",
       "<text text-anchor=\"middle\" x=\"1802.5\" y=\"-215.8\" font-family=\"Helvetica,sans-Serif\" font-size=\"14.00\">samples = 167</text>\n",
       "<text text-anchor=\"middle\" x=\"1802.5\" y=\"-200.8\" font-family=\"Helvetica,sans-Serif\" font-size=\"14.00\">value = [107, 60]</text>\n",
       "</g>\n",
       "<!-- 36&#45;&gt;37 -->\n",
       "<g id=\"edge37\" class=\"edge\">\n",
       "<title>36&#45;&gt;37</title>\n",
       "<path fill=\"none\" stroke=\"black\" d=\"M1802.5,-296.6C1802.5,-289.03 1802.5,-280.87 1802.5,-272.9\"/>\n",
       "<polygon fill=\"black\" stroke=\"black\" points=\"1806,-272.99 1802.5,-262.99 1799,-272.99 1806,-272.99\"/>\n",
       "</g>\n",
       "<!-- 42 -->\n",
       "<g id=\"node43\" class=\"node\">\n",
       "<title>42</title>\n",
       "<path fill=\"#e68742\" stroke=\"black\" d=\"M2041,-261C2041,-261 1960,-261 1960,-261 1954,-261 1948,-255 1948,-249 1948,-249 1948,-205 1948,-205 1948,-199 1954,-193 1960,-193 1960,-193 2041,-193 2041,-193 2047,-193 2053,-199 2053,-205 2053,-205 2053,-249 2053,-249 2053,-255 2047,-261 2041,-261\"/>\n",
       "<text text-anchor=\"middle\" x=\"2000.5\" y=\"-245.8\" font-family=\"Helvetica,sans-Serif\" font-size=\"14.00\">X[2] &lt;= 7.5</text>\n",
       "<text text-anchor=\"middle\" x=\"2000.5\" y=\"-230.8\" font-family=\"Helvetica,sans-Serif\" font-size=\"14.00\">gini = 0.087</text>\n",
       "<text text-anchor=\"middle\" x=\"2000.5\" y=\"-215.8\" font-family=\"Helvetica,sans-Serif\" font-size=\"14.00\">samples = 22</text>\n",
       "<text text-anchor=\"middle\" x=\"2000.5\" y=\"-200.8\" font-family=\"Helvetica,sans-Serif\" font-size=\"14.00\">value = [21, 1]</text>\n",
       "</g>\n",
       "<!-- 36&#45;&gt;42 -->\n",
       "<g id=\"edge42\" class=\"edge\">\n",
       "<title>36&#45;&gt;42</title>\n",
       "<path fill=\"none\" stroke=\"black\" d=\"M1863.79,-298.43C1887.14,-286.4 1913.78,-272.67 1937.3,-260.56\"/>\n",
       "<polygon fill=\"black\" stroke=\"black\" points=\"1938.89,-263.68 1946.17,-255.99 1935.68,-257.45 1938.89,-263.68\"/>\n",
       "</g>\n",
       "<!-- 38 -->\n",
       "<g id=\"node39\" class=\"node\">\n",
       "<title>38</title>\n",
       "<path fill=\"#399de5\" stroke=\"black\" d=\"M1778,-149.5C1778,-149.5 1697,-149.5 1697,-149.5 1691,-149.5 1685,-143.5 1685,-137.5 1685,-137.5 1685,-108.5 1685,-108.5 1685,-102.5 1691,-96.5 1697,-96.5 1697,-96.5 1778,-96.5 1778,-96.5 1784,-96.5 1790,-102.5 1790,-108.5 1790,-108.5 1790,-137.5 1790,-137.5 1790,-143.5 1784,-149.5 1778,-149.5\"/>\n",
       "<text text-anchor=\"middle\" x=\"1737.5\" y=\"-134.3\" font-family=\"Helvetica,sans-Serif\" font-size=\"14.00\">gini = 0.0</text>\n",
       "<text text-anchor=\"middle\" x=\"1737.5\" y=\"-119.3\" font-family=\"Helvetica,sans-Serif\" font-size=\"14.00\">samples = 10</text>\n",
       "<text text-anchor=\"middle\" x=\"1737.5\" y=\"-104.3\" font-family=\"Helvetica,sans-Serif\" font-size=\"14.00\">value = [0, 10]</text>\n",
       "</g>\n",
       "<!-- 37&#45;&gt;38 -->\n",
       "<g id=\"edge38\" class=\"edge\">\n",
       "<title>37&#45;&gt;38</title>\n",
       "<path fill=\"none\" stroke=\"black\" d=\"M1781.22,-192.6C1774.41,-181.93 1766.86,-170.08 1759.98,-159.27\"/>\n",
       "<polygon fill=\"black\" stroke=\"black\" points=\"1763.02,-157.53 1754.69,-150.98 1757.12,-161.3 1763.02,-157.53\"/>\n",
       "</g>\n",
       "<!-- 39 -->\n",
       "<g id=\"node40\" class=\"node\">\n",
       "<title>39</title>\n",
       "<path fill=\"#f1bc96\" stroke=\"black\" d=\"M1918.5,-157C1918.5,-157 1820.5,-157 1820.5,-157 1814.5,-157 1808.5,-151 1808.5,-145 1808.5,-145 1808.5,-101 1808.5,-101 1808.5,-95 1814.5,-89 1820.5,-89 1820.5,-89 1918.5,-89 1918.5,-89 1924.5,-89 1930.5,-95 1930.5,-101 1930.5,-101 1930.5,-145 1930.5,-145 1930.5,-151 1924.5,-157 1918.5,-157\"/>\n",
       "<text text-anchor=\"middle\" x=\"1869.5\" y=\"-141.8\" font-family=\"Helvetica,sans-Serif\" font-size=\"14.00\">X[5] &lt;= 26.269</text>\n",
       "<text text-anchor=\"middle\" x=\"1869.5\" y=\"-126.8\" font-family=\"Helvetica,sans-Serif\" font-size=\"14.00\">gini = 0.434</text>\n",
       "<text text-anchor=\"middle\" x=\"1869.5\" y=\"-111.8\" font-family=\"Helvetica,sans-Serif\" font-size=\"14.00\">samples = 157</text>\n",
       "<text text-anchor=\"middle\" x=\"1869.5\" y=\"-96.8\" font-family=\"Helvetica,sans-Serif\" font-size=\"14.00\">value = [107, 50]</text>\n",
       "</g>\n",
       "<!-- 37&#45;&gt;39 -->\n",
       "<g id=\"edge39\" class=\"edge\">\n",
       "<title>37&#45;&gt;39</title>\n",
       "<path fill=\"none\" stroke=\"black\" d=\"M1824.44,-192.6C1829.82,-184.41 1835.65,-175.53 1841.28,-166.96\"/>\n",
       "<polygon fill=\"black\" stroke=\"black\" points=\"1844.12,-169.02 1846.68,-158.74 1838.27,-165.18 1844.12,-169.02\"/>\n",
       "</g>\n",
       "<!-- 40 -->\n",
       "<g id=\"node41\" class=\"node\">\n",
       "<title>40</title>\n",
       "<path fill=\"#e99659\" stroke=\"black\" d=\"M1844,-53C1844,-53 1763,-53 1763,-53 1757,-53 1751,-47 1751,-41 1751,-41 1751,-12 1751,-12 1751,-6 1757,0 1763,0 1763,0 1844,0 1844,0 1850,0 1856,-6 1856,-12 1856,-12 1856,-41 1856,-41 1856,-47 1850,-53 1844,-53\"/>\n",
       "<text text-anchor=\"middle\" x=\"1803.5\" y=\"-37.8\" font-family=\"Helvetica,sans-Serif\" font-size=\"14.00\">gini = 0.241</text>\n",
       "<text text-anchor=\"middle\" x=\"1803.5\" y=\"-22.8\" font-family=\"Helvetica,sans-Serif\" font-size=\"14.00\">samples = 50</text>\n",
       "<text text-anchor=\"middle\" x=\"1803.5\" y=\"-7.8\" font-family=\"Helvetica,sans-Serif\" font-size=\"14.00\">value = [43, 7]</text>\n",
       "</g>\n",
       "<!-- 39&#45;&gt;40 -->\n",
       "<g id=\"edge40\" class=\"edge\">\n",
       "<title>39&#45;&gt;40</title>\n",
       "<path fill=\"none\" stroke=\"black\" d=\"M1846.23,-88.68C1840.35,-80.27 1834.02,-71.2 1828.08,-62.7\"/>\n",
       "<polygon fill=\"black\" stroke=\"black\" points=\"1831.05,-60.83 1822.45,-54.63 1825.31,-64.84 1831.05,-60.83\"/>\n",
       "</g>\n",
       "<!-- 41 -->\n",
       "<g id=\"node42\" class=\"node\">\n",
       "<title>41</title>\n",
       "<path fill=\"#f6d6be\" stroke=\"black\" d=\"M1975,-53C1975,-53 1886,-53 1886,-53 1880,-53 1874,-47 1874,-41 1874,-41 1874,-12 1874,-12 1874,-6 1880,0 1886,0 1886,0 1975,0 1975,0 1981,0 1987,-6 1987,-12 1987,-12 1987,-41 1987,-41 1987,-47 1981,-53 1975,-53\"/>\n",
       "<text text-anchor=\"middle\" x=\"1930.5\" y=\"-37.8\" font-family=\"Helvetica,sans-Serif\" font-size=\"14.00\">gini = 0.481</text>\n",
       "<text text-anchor=\"middle\" x=\"1930.5\" y=\"-22.8\" font-family=\"Helvetica,sans-Serif\" font-size=\"14.00\">samples = 107</text>\n",
       "<text text-anchor=\"middle\" x=\"1930.5\" y=\"-7.8\" font-family=\"Helvetica,sans-Serif\" font-size=\"14.00\">value = [64, 43]</text>\n",
       "</g>\n",
       "<!-- 39&#45;&gt;41 -->\n",
       "<g id=\"edge41\" class=\"edge\">\n",
       "<title>39&#45;&gt;41</title>\n",
       "<path fill=\"none\" stroke=\"black\" d=\"M1891.01,-88.68C1896.38,-80.36 1902.16,-71.4 1907.6,-62.97\"/>\n",
       "<polygon fill=\"black\" stroke=\"black\" points=\"1910.48,-64.97 1912.96,-54.67 1904.6,-61.17 1910.48,-64.97\"/>\n",
       "</g>\n",
       "<!-- 43 -->\n",
       "<g id=\"node44\" class=\"node\">\n",
       "<title>43</title>\n",
       "<path fill=\"#e88f4f\" stroke=\"black\" d=\"M2040,-149.5C2040,-149.5 1961,-149.5 1961,-149.5 1955,-149.5 1949,-143.5 1949,-137.5 1949,-137.5 1949,-108.5 1949,-108.5 1949,-102.5 1955,-96.5 1961,-96.5 1961,-96.5 2040,-96.5 2040,-96.5 2046,-96.5 2052,-102.5 2052,-108.5 2052,-108.5 2052,-137.5 2052,-137.5 2052,-143.5 2046,-149.5 2040,-149.5\"/>\n",
       "<text text-anchor=\"middle\" x=\"2000.5\" y=\"-134.3\" font-family=\"Helvetica,sans-Serif\" font-size=\"14.00\">gini = 0.18</text>\n",
       "<text text-anchor=\"middle\" x=\"2000.5\" y=\"-119.3\" font-family=\"Helvetica,sans-Serif\" font-size=\"14.00\">samples = 10</text>\n",
       "<text text-anchor=\"middle\" x=\"2000.5\" y=\"-104.3\" font-family=\"Helvetica,sans-Serif\" font-size=\"14.00\">value = [9, 1]</text>\n",
       "</g>\n",
       "<!-- 42&#45;&gt;43 -->\n",
       "<g id=\"edge43\" class=\"edge\">\n",
       "<title>42&#45;&gt;43</title>\n",
       "<path fill=\"none\" stroke=\"black\" d=\"M2000.5,-192.6C2000.5,-182.47 2000.5,-171.28 2000.5,-160.93\"/>\n",
       "<polygon fill=\"black\" stroke=\"black\" points=\"2004,-161.22 2000.5,-151.22 1997,-161.22 2004,-161.22\"/>\n",
       "</g>\n",
       "<!-- 44 -->\n",
       "<g id=\"node45\" class=\"node\">\n",
       "<title>44</title>\n",
       "<path fill=\"#e58139\" stroke=\"black\" d=\"M2163,-149.5C2163,-149.5 2082,-149.5 2082,-149.5 2076,-149.5 2070,-143.5 2070,-137.5 2070,-137.5 2070,-108.5 2070,-108.5 2070,-102.5 2076,-96.5 2082,-96.5 2082,-96.5 2163,-96.5 2163,-96.5 2169,-96.5 2175,-102.5 2175,-108.5 2175,-108.5 2175,-137.5 2175,-137.5 2175,-143.5 2169,-149.5 2163,-149.5\"/>\n",
       "<text text-anchor=\"middle\" x=\"2122.5\" y=\"-134.3\" font-family=\"Helvetica,sans-Serif\" font-size=\"14.00\">gini = 0.0</text>\n",
       "<text text-anchor=\"middle\" x=\"2122.5\" y=\"-119.3\" font-family=\"Helvetica,sans-Serif\" font-size=\"14.00\">samples = 12</text>\n",
       "<text text-anchor=\"middle\" x=\"2122.5\" y=\"-104.3\" font-family=\"Helvetica,sans-Serif\" font-size=\"14.00\">value = [12, 0]</text>\n",
       "</g>\n",
       "<!-- 42&#45;&gt;44 -->\n",
       "<g id=\"edge44\" class=\"edge\">\n",
       "<title>42&#45;&gt;44</title>\n",
       "<path fill=\"none\" stroke=\"black\" d=\"M2040.45,-192.6C2054.13,-181.16 2069.42,-168.38 2083.06,-156.97\"/>\n",
       "<polygon fill=\"black\" stroke=\"black\" points=\"2085.17,-159.78 2090.59,-150.68 2080.68,-154.41 2085.17,-159.78\"/>\n",
       "</g>\n",
       "</g>\n",
       "</svg>\n"
      ],
      "text/plain": [
       "<graphviz.sources.Source at 0x1d691b86b50>"
      ]
     },
     "execution_count": 61,
     "metadata": {},
     "output_type": "execute_result"
    }
   ],
   "source": [
    "#Decision Tree Visualization using Graphviz\n",
    "\n",
    "import graphviz\n",
    "graph_ = tree.export_graphviz(model,label='all',rounded=True,filled=True)\n",
    "graph = graphviz.Source(graph_)\n",
    "\n",
    "import os\n",
    "os.environ[\"PATH\"] += os.pathsep + 'C:/Program Files (x86)/Graphviz/bin/'\n",
    "\n",
    "graph.render(\"data\")\n",
    "graph\n",
    "\n"
   ]
  },
  {
   "cell_type": "markdown",
   "id": "1838daf0",
   "metadata": {},
   "source": [
    "When a new set of example is given to this model The Decision tree Algorithm start spliting from the coloumn with the highest information gain which is the sex and splits based on the examples that are 0 representing the Female category and 1 representing the Male category.\n",
    "The Algorithm further splits based on the passenserg's class above 2.5 and  below 2.5"
   ]
  },
  {
   "cell_type": "markdown",
   "id": "2820f5ff",
   "metadata": {},
   "source": [
    "## Tuning the desicion tree Hyperparameter of the Decision tree \n"
   ]
  },
  {
   "cell_type": "code",
   "execution_count": 68,
   "id": "ee10eb5a",
   "metadata": {},
   "outputs": [
    {
     "name": "stdout",
     "output_type": "stream",
     "text": [
      "The_ Accuracy Sore the test data : 0.8715083798882681\n",
      "The_ Accuracy Sore the training data : 0.8300561797752809\n"
     ]
    }
   ],
   "source": [
    "\n",
    "model2 = DecisionTreeClassifier(max_depth=7,random_state=30,min_samples_leaf=5)\n",
    "model2.fit(X_train,y_train)\n",
    "\n",
    "prediction = model2.predict(X_test)\n",
    "\n",
    "print(f'The_ Accuracy Sore the test data : {accuracy_score(prediction,y_test)}')\n",
    "print(f'The_ Accuracy Sore the training data : {accuracy_score(model.predict(X_train),y_train)}')h"
   ]
  },
  {
   "cell_type": "markdown",
   "id": "24b54d1b",
   "metadata": {},
   "source": [
    "##### Increasing the Maximum depth of the tree and reducing Minimum samples per leaf increases the test accuracy of the model"
   ]
  },
  {
   "cell_type": "markdown",
   "id": "fd13e31a",
   "metadata": {},
   "source": [
    "## Random Forest"
   ]
  },
  {
   "cell_type": "code",
   "execution_count": 104,
   "id": "7fe3fad5",
   "metadata": {},
   "outputs": [
    {
     "name": "stdout",
     "output_type": "stream",
     "text": [
      "The_ Accuracy Sore the test data : 0.8491620111731844\n",
      "The_ Accuracy Sore the training data : 0.7345505617977528\n"
     ]
    }
   ],
   "source": [
    "from sklearn.ensemble import RandomForestClassifier\n",
    "from sklearn import metrics \n",
    "\n",
    "\n",
    "rfc = RandomForestClassifier(n_estimators=5)\n",
    "rfc.fit(X_train,y_train)\n",
    "\n",
    "prediction = rfc.predict(X_test)\n",
    "\n",
    "\n",
    "print(f'The_ Accuracy Sore the test data : {accuracy_score(y_test,prediction,)}')\n",
    "print(f'The_ Accuracy Sore the training data : {accuracy_score(model.predict(X_train),y_train)}')"
   ]
  },
  {
   "cell_type": "code",
   "execution_count": 106,
   "id": "12f103bd",
   "metadata": {},
   "outputs": [
    {
     "name": "stdout",
     "output_type": "stream",
     "text": [
      "The_ Accuracy Sore the test data : 0.8212290502793296\n",
      "The_ Accuracy Sore the training data : 0.7345505617977528\n"
     ]
    }
   ],
   "source": [
    "#checking Accuracy for a different number of estimator \n",
    "\n",
    "rfc2 = RandomForestClassifier(n_estimators=10)\n",
    "rfc2.fit(X_train,y_train)\n",
    "\n",
    "prediction1 = rfc2.predict(X_test)\n",
    "\n",
    "\n",
    "print(f'The_ Accuracy Sore the test data : {accuracy_score(y_test,prediction1)}')\n",
    "print(f'The_ Accuracy Sore the training data : {accuracy_score(model.predict(X_train),y_train)}')"
   ]
  },
  {
   "cell_type": "markdown",
   "id": "60299361",
   "metadata": {},
   "source": [
    "## Summary"
   ]
  },
  {
   "cell_type": "code",
   "execution_count": 112,
   "id": "b9f0e706",
   "metadata": {
    "scrolled": true
   },
   "outputs": [
    {
     "data": {
      "image/png": "[encoded data removed]",
      "text/plain": [
       "<Figure size 1152x576 with 1 Axes>"
      ]
     },
     "metadata": {
      "needs_background": "light"
     },
     "output_type": "display_data"
    }
   ],
   "source": [
    "# Define the models and their accuracy scores\n",
    "models = ['Logistic Regression', 'KNN', 'Decision Tree', 'Random Forest']\n",
    "accuracy_scores = [0.82, 0.73, 0.87, 0.84]\n",
    "\n",
    "# Plot the bar graph\n",
    "fig = plt.figure(figsize=(16,8))\n",
    "x_pos = np.arange(len(models))\n",
    "plt.bar(x_pos, accuracy_scores, align='center', color = 'b')\n",
    "plt.xticks(x_pos, models)\n",
    "plt.ylabel('Accuracy')\n",
    "plt.xlabel('Models')\n",
    "plt.title('Summary graph which of all accuracies for each model')\n",
    "plt.show()"
   ]
  },
  {
   "cell_type": "markdown",
   "id": "2f0f1028",
   "metadata": {},
   "source": [
    "#### From the accuracy summary graph above :\n",
    "#### the Decision tree model  performs the most in predicting if a passenger will survive or not , followed by the random forest model.\n",
    "#### the KNN classifier gives the least accuracy in predictions"
   ]
  },
  {
   "cell_type": "code",
   "execution_count": null,
   "id": "f6cac65b",
   "metadata": {},
   "outputs": [],
   "source": []
  }
 ],
 "metadata": {
  "kernelspec": {
   "display_name": "Python 3 (ipykernel)",
   "language": "python",
   "name": "python3"
  },
  "language_info": {
   "codemirror_mode": {
    "name": "ipython",
    "version": 3
   },
   "file_extension": ".py",
   "mimetype": "text/x-python",
   "name": "python",
   "nbconvert_exporter": "python",
   "pygments_lexer": "ipython3",
   "version": "3.9.12"
  }
 },
 "nbformat": 4,
 "nbformat_minor": 5
}
